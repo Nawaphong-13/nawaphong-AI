{
  "nbformat": 4,
  "nbformat_minor": 0,
  "metadata": {
    "kernelspec": {
      "display_name": "Python 3.7 (tensorflow)",
      "language": "python",
      "name": "tensorflow"
    },
    "language_info": {
      "codemirror_mode": {
        "name": "ipython",
        "version": 3
      },
      "file_extension": ".py",
      "mimetype": "text/x-python",
      "name": "python",
      "nbconvert_exporter": "python",
      "pygments_lexer": "ipython3",
      "version": "3.7.7"
    },
    "colab": {
      "name": "neural_nets_with_keras.ipynb",
      "provenance": [],
      "include_colab_link": true
    }
  },
  "cells": [
    {
      "cell_type": "markdown",
      "metadata": {
        "id": "view-in-github",
        "colab_type": "text"
      },
      "source": [
        "<a href=\"https://colab.research.google.com/github/Nawaphong-13/nawaphong-AI/blob/master/neural_nets_with_keras.ipynb\" target=\"_parent\"><img src=\"https://colab.research.google.com/assets/colab-badge.svg\" alt=\"Open In Colab\"/></a>"
      ]
    },
    {
      "cell_type": "markdown",
      "metadata": {
        "id": "r1BT5CGwp972",
        "colab_type": "text"
      },
      "source": [
        "# ปัญญาประดิษฐ์ (Artificial Intelligence: AI)\n",
        "**Presented by: Nawaphong Yoochum**\n",
        "\n"
      ]
    },
    {
      "cell_type": "markdown",
      "metadata": {
        "id": "f6YHwalVp973",
        "colab_type": "text"
      },
      "source": [
        "![zax](https://miro.medium.com/max/800/0*Z6s4lFY9R6zxmS14.jpg \"zax\")"
      ]
    },
    {
      "cell_type": "markdown",
      "metadata": {
        "id": "BWrA5aWPp973",
        "colab_type": "text"
      },
      "source": [
        "# AI เกิดจาก?\n",
        "**คำว่า ปัญญาประดิษฐ์ (Artificial Intelligence: AI) ถูกใช้ครั้งแรกเมื่อประมาณ ค.ศ.1956 โดย John McCarthy เพื่อจัดงานสัมนาเชิงปฎิบัติการสำหรับนักวิจัยที่สนใจในหัวข้อที่กี่ยวข้องกัน เช่น ทฤษฎีออโตมาตา โครงข่ายประสาทเทียม และการศึกษาเกี่ยวกับความชาญฉลาด**\n",
        "\n",
        "# AI คือ?\n",
        "**ความหมายของปัญญาประดิษฐ์มีการให้ความหมาย และคำจำกัดความไว้มากมาย แต่มักเกี่ยวข้องกับกระบวนการคิดและการให้เหตุผลโดยมีมนุษย์เป็นต้นแบบ ซึ่งแตกแขนงออกเป็นหลายสาขา เช่น**\n",
        "\n",
        "* **การประมวลผลภาษาธรรมชาติ (Natural Language Processing: NLP)** ซึ่งเกี่ยวข้องกับการสื่อสารด้วยภาษาที่มนุษย์ใช้งาน เช่น ข้อความ ตัวอักษร เสียงพูด โดยตัวอย่าง NLP ที่พบเจอด้ง่ายในปัจจุบัน เช่น Chatbot ต่าง ๆ ไม่ว่าจะเป็น Siri ของบริษัท Apple, Alexa ของบริษัท Amazon และ Google Assistant ของบริษัท Google เป็นต้น\n",
        "\n",
        "* **คอมพิวเตอร์วิทัศน์ (Computer Vision)** ซึ่งเทียบได้กับการสร้างตาให้กับเครื่องจักร ที่สามารถรับรู้สิ่งแวดล้อมต่าง ๆ จากภาพ เช่น การรู้จำใบหน้ามนุษย์ การจำแนกประเภทของสิ่งของในภาพ หรือการตรวจหาตำแหน่งสิ่งของที่ต้องการจากภาพ เป็นต้น\n",
        "\n",
        "* **หุ่นยนต์ (Robotics)** ซึ่งเกี่ยวกับการสร้างเครื่องกลที่สามารถในลักษณะเฉพาะต่าง ๆ ได้อย่างแม่นยำและชาญฉลาด คล้ายกับการสร้างร่างการให้กับระบบปัญญาประดิษฐ์\n",
        "\n",
        "* **ระบบผู้เชี่ยวชาญ (Expert System)** เป็นการจำลองผู้เชี่ยงชาญในงานด้านนั้น ๆ เป็นชุดโปรแกรมคอมพิวเตอร์เพื่อให้สามารถทำงานนั้น ๆ ได้แทนผู้เชี่ยวชาญ หรือช่วยประกอบการตัดสินใจ เช่น ระบบซื้อขายหุ้น ระบบวินิจฉัยโรค เป็นต้น\n",
        "\n",
        "# ML คือ?\n",
        "**การเรียนรู้ของเครื่อง (Machine Learning: ML) เป็นเครื่องมือหนึ่งของปัญญาประดิษฐ์ที่มุ่งเน้นในการใช้ตัวอย่างหรือประสบการณ์เพื่อการเรียนรู้ โดยมนุษย์มีส่วนร่วมเพียงการออกแบบระบบเท่านั้น หลังจากนั้นระบบจะสกัดสิ่งสำคัญจากตัวอย่างเหล่านี้เอง หลังจากการเรียนรู้เสร็จสิ้นด้วยตัวอย่างจำนวนหนึ่งอย่างเพียงพอ เครื่องหรือระบบที่เรียนรู้แล้วสามารถนำไปใช้ในการประมวลผลของตัวอย่างใหม่ที่ไม่เคยพบมาก่อนได้อย่างมีประสทธิภาพ**\n",
        "\n",
        "\n",
        "**Figure 1.: Jeff Heaton Recording a Video**\n",
        "![zax](https://top6sites.com/wp-content/uploads/2020/05/AI-vs-ML-vs-Deep-Learning.png \"zax\")\n",
        "**Figure 2.: เปรียบเทียบระหว่าง โปรแกรมมิ่ง กับ Machine Learning**\n",
        "![zax](https://miro.medium.com/max/526/1*ZEMaGdLFmXjb3LveJHOEzA.png \"zax\")\n",
        "\n",
        "\n"
      ]
    },
    {
      "cell_type": "markdown",
      "metadata": {
        "id": "iOEpkQyXp974",
        "colab_type": "text"
      },
      "source": [
        "# Machine Learning จะมีคำศัพท์วิชาการที่คุณต้องเข้าใจอยู่(ไม่)นิดหน่อย\n",
        "**Figure 3.: Work flow ของ Machine Learning แบบ Supervised**\n",
        "![zax](https://miro.medium.com/max/875/1*ErgLGNnn7OfI-_o7aicMdQ.png \"zax\")\n",
        "\n",
        "* **Training Set** : ชุดข้อมูลฝึก เป็นชุดข้อมูลสำหรับฝึกฝนโมเดล Machine Learning โดยจะฝึกให้ผลลัพธ์ออกมาเป็นไปตามชุดข้อมูลต้นฉบับ **“หากข้อมูลภายในชุดข้อมูลฝึกมีค่าผิดหรือค่าที่ไม่ถูกต้อง ผลลัพธ์ที่ออกมาก็จะผิด”** ยกตัวอย่างเช่น ข้อมูลคนไข้ (น้ำหนัก,ส่วนสูง,ความดัน), ข้อมูลคนที่ชื้อของผ่าน Lazada (เพศ,อายุ,อาชีพ,ความสนใจพิเศษ)\n",
        "* **Test Set** : ชุดข้อมูลเอาไว้ทดสอบ โดย Test Set ไม่ควรเอาไปใช้ร่วมกับ Training Set เพราะถ้าทำแบบนั้น มันคือการเอาเฉลยของข้อสอบมาให้อ่านแล้วจากนั้นจึงให้ทำข้อสอบก็จะเกิดในเรื่องของ Model Over fitting กับข้อมูลชุดนั้นๆด้วย \n",
        "* **Label,Non Label หรือ Class** : เป็นตัวบ่งบอกว่าข้อมูลที่ให้ฝึกเป็นอะไร โดยแบบ Label จะใช้กับ Machine Learinig แบบมีผู้ช่วยสอน **(Supervised)** และ Non Label ใช้กับแบบไม่มีผู้ช่วยสอน **(Unsupervised)** เช่น ข้อมูลของคนไข้โดยมี Label/Class บอกว่าคนไข้คนนี้ป่วยหรือไม่ , ข้อมูลคนที่ชื้อของผ่าน Lazada โดย Label/Class บอกว่าเขาชื้อของใช้หรือของกิน\n",
        "* **Feature** : ภายในชุดข้อมูลฝึก/ทดสอบจะมีลักษณะเด่นที่ปรากฏอยู่ภายในข้อมูล เช่น ข้อมูลคนไข้ที่ป่วยเป็นไข้หวัดใหญ่ โดยลักษณะสำคัญคือ ไข้ขึ้นสูงกว่า 35 องศา , คนที่ชื้อของผ่าน Lazada โดยเขาชื้อของใช้ โดยลักษณะสำคัญคือ ของชิ้นที่ชื้อกำลังลดราคา ซึ่งภายในข้อมูลก็จะมีข้อมูลที่ไม่สำคัญอยู่ด้วย เราจะต้องคัดออกไปจากข้อมูลของเรา เหลือไว้เฉพาะอันที่ส่งผลข้อมูลจริง ๆ เท่านั้น\n",
        "* **Machine Learning Algorithm / Machine Learning Model** : จะเป็นการนำชุดข้อมูลฝึกฝน (Training Set) ที่ข้างในมีการระบุ Class (Label or Non Label) **โดยจะต้องเลือกลักษณะเด่น (Feature) ของข้อมูลนั้นมาก่อนแล้ว** จากนั้นเอาข้อมูลเหล่านั้นมาคำนวณผ่านหลักคณิตศาสตร์และสถิติขึ้นอยู่โมเดลที่เราเลือกโดยขั้นตอนนี้เราเรียกว่าการฝึกฝนโมเดล (Train Model) โดยเมื่อฝึกฝนเสร็จเราก็จะโมเดลที่สามารถทำนาย Class/Label จาก input ออกมาได้\n",
        "* **Predict Model** : หลังจากได้ ML Model มาแล้ว นำเอาโมเดลไปใช้งานโดยการป้อน input ให้โมเดลนั้น ๆ แล้วตัวโมเดลจะให้คำตอบ (Class/Label) โดยอ้างอิงจาก Train Set ของเรา โดยเราหวังว่า ผลลัพธ์ที่ออกมาจะเป็นไปตามที่เราคาดหวังไว้\n",
        "* **Expected Label or Value** : หลังจากได้ Output ของการทำนาย โดยเราหวังว่ามันจะออกมาถูก โดยบางครั้งเราสามารถมองเห็นผลลัพธ์ด้วยตาเปล่า เช่น ทำนายว่าเลขนี้คือเลขอะไร เวลาที่ได้คำตอบจากโมเดล เราก็สามารถตรวจได้ด้วยตาเปล่าเลย แต่บางอย่างเราไม่สามารถทำการตรวจสอบผลลัพธ์ด้วยตาเปล่าหรือคำตอบนั้นมีจำนวนมาก ทำให้เราต้องมีการทดสอบขึ้นมา โดยเรียกว่า การประเมินโมเดล (E-Test/Evaluate) โดยเอา Output มาเทียบกับเฉลยที่เรามี หรือ Good global โดยค่าใช้ตรวจสอบก็มีหลากหลายเช่น ACC , F1Score , Confusion matrix\n"
      ]
    },
    {
      "cell_type": "markdown",
      "metadata": {
        "id": "u2IH78Xrp974",
        "colab_type": "text"
      },
      "source": [
        "# Machine Learning มีกี่ประเภท ?\n",
        "**จะมีอยู่ 2 แบบใหญ่ๆคือ**\n",
        "* แบบมีผู้ช่วยสอน (Supervised)\n",
        "* แบบไม่มีผู้ช่วยสอน (Unsupervised)\n",
        "\n",
        "**Figure 4.:Machine Learning Type**\n",
        "![zax](https://miro.medium.com/max/875/1*FOrwV4L_bTEeeUoUrAgSNg.png \"zax\")\n",
        "\n",
        "# แบบที่ 1 แบบมีผู้ช่วยสอน (Supervised)\n",
        "\n",
        "**Figure 5.:แบบ Supervised**\n",
        "![zax](https://miro.medium.com/max/875/1*sxI24EY_gvknBDYALp2yoA.png \"zax\")\n",
        "\n",
        "**โดยในแบบนี้ เราจะมีสิ่งที่เรียกว่า เฉลย (Label/Class) หน้าที่ของมันคือจำแนกประเภทของข้อมูลนั้นๆ (Category) หรือบ่งบอกถึงปริมาณก็ได้ โดยสามารถแบ่งออกมาได้อีก 2 ประเภทคือ**\n",
        "* Classification หรือ การจำแนกประเภท\n",
        "* Regression หรือ การวิเคราะห์การถดถอย\n",
        "\n",
        "# Classification หรือ การจำแนกประเภท\n",
        "**เป็นการจำแนกข้อมูลออกเป็นประเภทต่าง ๆ ตามที่ Label ได้กำหนดไว้ โดย Machine Learning ประเภท Classification จะให้คำตอบเป็น Label / Class เท่านั้น ไม่สามารถให้คำตอบที่นอกเหนือจาก Label ในชุดฝึกฝน หรือออกมาเป็นตัวเลขที่ผ่านการคำนวณได้นั้นเอง โดย ML Model สำหรับงาน Classification ที่เด่น ๆ ได้แก่ KNN, SVM, Logistic Regression, Decision Treec และ Neural Network เป็นต้น**\n",
        "\n",
        "# Regression หรือ การวิเคราะห์การถดถอย\n",
        "**คือการนำ input เข้าไปฝึกฝนและให้คำตอบออกมาเป็นตัวเลขเท่านั้น คำตอบไม่สามารถออกมาเป็น Label/Class ได้ โดย ML Model สำหรับงาน Regression ที่เด่น ๆ ได้แก่ Linear Regression, Ridge Regression, Lasso, Elastic Net, SGD**"
      ]
    },
    {
      "cell_type": "markdown",
      "metadata": {
        "id": "ghzfEarmp975",
        "colab_type": "text"
      },
      "source": [
        "# แบบที่ 2 แบบไม่มีผู้ช่วยสอน (Unsupervised)\n",
        "\n",
        "**Figure 6.:จำแนกประเภทของข้อมูล โดยไม่ต้องมี Label data**\n",
        "![zax](https://miro.medium.com/max/434/1*5RDVF1xW0LfXjoxZp6jI1Q.png \"zax\")\n",
        "**Unsupervised จะต่างจาก Supervised โดยสิ้นเชิงโดยวิธีนี้จะเน้นไปที่การวิเคราะห์ข้อมูล (Analysist) มากกว่า เช่นการหา pattern ของข้อมูลเพื่อทำการจัดกลุ่มของของมูล (Clustering) หรือจะเป็นการลดมิติของข้อมูล (Dimension Reduction) เพื่อหา Feature ของข้อมูล**"
      ]
    },
    {
      "cell_type": "markdown",
      "metadata": {
        "id": "F-khmVZQp975",
        "colab_type": "text"
      },
      "source": [
        "# Neural Network คืออะไร?\n",
        "**โครงข่ายประสาทเทียม (Artificial Neural Network, ANNs) หรือเรียกสั้นๆว่า โครงข่ายประสาท (Neural Network, Neural Net, NN) คือโมเดลทางคณิตศาสตร์หรือโมเดลทางคอมพิวเตอร์สำหรับประมวลผลสารสนเทศด้วยการคำนวณแบบ คอนเนคชันนิสต์ (Connectionist) เพื่อจำลองการทำงานของเครือข่ายประสาทในสมองมนุษย์**\n",
        "**Figure 7.:เซลล์ประสาท**\n",
        "![zax](https://miro.medium.com/max/600/1*9HEzWvaSXPF1MTIxqYzTNg.jpeg \"zax\")\n",
        "\n",
        "**โดยแนวคิดเริ่มต้นของเทคนิคนี้ได้มากจากการศึกษาโครงข่ายประสาทไฟฟ้าทางชีวภาพ (Bioelectric Network) ในสมอง ซึ่งประกอบไปด้วย เซลล์ประสาทหรือนิวรอน (Neuron) และจุดประสานประสาท (Synapses) ซึ่งในแต่ละเซลล์จะประกอบไปด้วยปลายการรับกระแสประสาทเรียกว่า เดนไดรน์ (Dendrite) ซึ่งเป็น Input และปลายในการส่งกระแสประสาทเรียกว่า แอดซอน (Axon) ซึ่งเป็นเหมือน Output**\n",
        "\n",
        "# ส่วนประกอบของ Neural Network\n",
        "**Figure 8.:ส่วนประกอบของ Neural Network**\n",
        "![zax](https://miro.medium.com/max/729/1*CYR1Hge5ZrSieLAs9URpzg.jpeg \"zax\")\n",
        "\n",
        "* **Neurons (ก้อนกลมๆ)**\n",
        "ข้างใน Neuron จะต่างกันตาม layer ที่มันอยู่ โดยถ้าเป็น Input ข้างในตัวมันก็จะมีข้อมูลที่รับมา แต่ถ้าเป็น Hidden Layer ก็จะมีสมการที่ช่วยในการคำนวณเพื่อทำนายว่าเป็นคลาสอะไร หรือคำนวณแบบถดถอย (Regression) ก็ได้ แต่ถ้าเป็น Output ก็จะเป็นตัวที่บ่งบอกว่าเป็นคลาสอะไรนั้นเอง\n",
        "* **Input Layer (สีเขียว)**\n",
        "มีหน้าที่ในการรับข้อมูลเข้ามาในโครงข่ายประสาทโดย Input Layer จะเพียงชั้นเดียวเท่านั้นและมีหน้าที่ส่งข้อมูลไปยังชั้นถัดไป (Hidden Layer)\n",
        "* **Hidden Layer (สีส้ม)**\n",
        "มีหน้าที่รับข้อมูลจาก Layer ก่อนหน้า จะสังเกตุว่า Hidden Layer สามารถมีจำนวนมากกว่า 1 ได้ และโดยพื้นฐาน ถ้าเรายิ่งต้องการความแม่นยำที่มากขึ้นเราก็จะเพิ่มจำนวนชั้นของ Hidden Layer และจำนวน Neurons ให้มากขึ้นก็จะช่วยได้ (ไม่เสมอไป)\n",
        "* **Output Layer (สีฟ้า)**\n",
        "เป็น output layer ที่อยู่ท้ายสุดรอรับค่าจาก hidden layer อันสุดท้าย โดยในชั้น output นั้นแต่ละ neurons จะมีค่าน้ำหนักของคลาสอยู่เช่น เรามีประเภทของ output ทั้งหมดหมด 2 แบบคือ แมว กับ หมาเพราะฉนั้น output layer ของเราจะมี neurons 2 ตัว ตัวแรกอาจจะเป็นหมา neurons ตัวที่สองจะเป็นแมว โดยเมื่อข้อมูลผ่าน hidden layer ไปสู่ output ไปแล้ว neurons ทั้ง 2 ตัวจะมีค่าข้างในไม่เท่ากัน โดยที่** ***neuron ตัวไหนมีน้ำหนักมากกว่ากัน แสดงว่าเป็นคลาสนั้น***\n",
        "\n",
        "# และใน hidden layer มีอีกสองสิ่งที่ถูกซ่อนไว้คือ bias และ weight\n",
        "**Figure 8.:B1,B2 และ Wx**\n",
        "![zax](https://miro.medium.com/max/875/1*ZFRdep_Qq1q8_7RqZRL8Zg.png \"zax\")\n",
        "\n",
        "* โดยทุกๆ hidden layer จะมี **bias** เชื่อมต่ออยู่เพื่อให้ทุกๆการคำนวณเพื่อส่งต่อมีความเท่าเทียมกัน ตีความหมายง่ายๆคือ ทุกๆ neurons ใน hidden layer จะต้องมี **bias** เข้าไปคำนวณเพื่อให้ decision boundary ไม่จำเป็นต้องผ่านจุด origin\n",
        "* ส่วน **Weight** จะเป็นน้ำหนักซึ่งมันจะส่งผลทุกๆ neurons มีค่า output ที่ไม่เท่ากัน ทำให้แต่ละคลาสมีน้ำหนักไม่เท่ากันเวลาคำนวณว่าเป็นคลาสไหน ทำให้เราสามารถแยกว่าข้อมูลนี้เป็นคลาสอะไรได้ด้วยการดูตัวเลขที่ output\n",
        "\n",
        "# Perceptron\n",
        "**Figure 9.:https://www.oreilly.com/library/view/neural-networks-and/9781492037354/ch01.html**\n",
        "![zax](https://miro.medium.com/max/384/1*wKSR0n-QMKcky5akfJhUSw.png \"zax\")\n",
        "\n",
        "**โดย 1 neuron จะทำนายได้แค่ 1 คลาส (คล้ายกับ Logistic Regression) ถ้าอยากมี output หลายๆคลาสก็ต้องมีหลายๆ LTU นั้นเอง โดยในตัว Neuron จะมี Weight Sum คือการรวมน้ำหนักที่ต่อเข้า Neuron ด้วยสมการเฉพาะตัว และมี Step function ในการคำนวณค่าออกมาว่าเป็นคลาสอะไร**\n",
        "\n",
        "**Figure 10.:https://www.oreilly.com/library/view/neural-networks-and/9781492037354/ch01.html**\n",
        "![zax](https://miro.medium.com/max/875/1*sauVjqhmvJxwtQZojEqHFw.png \"zax\")\n",
        "\n",
        "# Multi-layer Perceptron\n",
        "**Figure 10.:Multi-layer Perceptron**\n",
        "![zax](https://miro.medium.com/max/875/1*6Y4rddcnu_jFIwHq_mAouQ.png \"zax\")\n",
        "\n",
        "# Backpropagation\n",
        "\n",
        "**หลังจากมีการเพิ่ม MLP เข้าไป Neural network ก็ตัน ๆ ไปจนกระทั่งถึงปี 1986 Rumelhart ได้ตีพิมพ์ paper อัลกอริทึมที่ชื่อว่า “Backpropagation”\n",
        "ปกติ Neural Network เราจะเรียกว่า Feed Forward / Forward pass คือการไปข้างหน้า หมายความว่าปกติแล้ว NN จะรับข้อมูลจาก Input Layer สร้างน้ำหนัก(W) แล้วประมวลผลผ่าน Hidden Layer แล้วออกที่ Output เลย แต่ทีนี้เราให้มันย้อนกลับจาก output กลับมาที่ input โดยที่ Backpropagation หน้าที่ของมันแปลเป็นไทยง่ายๆคือ**\n",
        "***ปรับค่าน้ำหนัก(W)ในแต่ละเส้นอีกครั้งโดยดูจาก error/cost ที่เกิดขึ้นในแต่ละ neurons***\n",
        "\n",
        "**Figure 11.:Backpropagation**\n",
        "![zax](https://miro.medium.com/max/875/1*dATwpOb7HF3asp18ddZQVg.png \"zax\")\n",
        "\n",
        "# Optimization Algorithms\n",
        "\n",
        "จากการมาถึงของ Backpropagation เราจะปรับน้ำหนักในแต่ละจุดให้ดีขึ้นเพื่อให้ได้ค่าที่แม่นยำมากยิ่งขึ้นกว่าเดิมแต่วิธีการหาค่าน้ำหนัก(W) ใหม่คือการใช้สิ่งที่เรียกว่า Optimization Algorithms แปลเป็นไทยได้ว่า “อัลกอริทึมการเพิ่มประสิทธิภาพ” ซึ่งทำหน้าที่ปรับปรุงค่าต่าง ๆ ใน neural network ทำให้ output เข้าใกล้เป้าหมายมากขึ้น\n",
        "**Figure 12.:Optimization Algorithms**\n",
        "![zax](https://miro.medium.com/max/419/1*CTIZsQR6AwCPcLpS9WPyzg.png \"zax\")\n",
        "\n",
        "# Activation Function\n",
        "\n",
        "**Figure 12.:Activation Function**\n",
        "![zax](https://miro.medium.com/max/750/1*fSdhPRjTiAXO13tooELWaw.png \"zax\")\n",
        "**เมื่อเราใช้ backpropagation แล้วเราก็ไม่สามารถใช้ step function ได้อีกต่อไปเราจึงเปลี่ยนมาใช้** ***Activation Function (ฟังก์ชั่นการกระตุ้น)*** **มาคำนวณหลังจากที่คำนวณ Weight ของ neuron เสร็จแล้วเพื่อหาว่าเป็นคลาสนี้หรือไม่โดยค่าที่ออกมาจะเป็นความน่าจะเป็นว่าใช่คลาสนั้นหรือไม่ และจะเป็นน้ำหนักให้กับ neurons ตัวถัดไป**\n"
      ]
    },
    {
      "cell_type": "markdown",
      "metadata": {
        "id": "Cf1spxpjp975",
        "colab_type": "text"
      },
      "source": [
        "# Implementation Artificial Neural Network\n",
        "\n",
        "**Figure 13.:Implementation**\n",
        "![zax](https://twilio-cms-prod.s3.amazonaws.com/images/jupyter_python_numpy.width-808.png \"zax\")"
      ]
    },
    {
      "cell_type": "code",
      "metadata": {
        "id": "ZzeQoC7fp976",
        "colab_type": "code",
        "colab": {}
      },
      "source": [
        "# Python ≥3.5 is required\n",
        "import sys\n",
        "assert sys.version_info >= (3, 5)\n",
        "\n",
        "# Scikit-Learn ≥0.20 is required\n",
        "import sklearn\n",
        "assert sklearn.__version__ >= \"0.20\"\n",
        "\n",
        "try:\n",
        "    # %tensorflow_version only exists in Colab.\n",
        "    %tensorflow_version 2.x\n",
        "except Exception:\n",
        "    pass\n",
        "\n",
        "# TensorFlow ≥2.0 is required\n",
        "import tensorflow as tf\n",
        "assert tf.__version__ >= \"2.0\"\n",
        "\n",
        "# Common imports\n",
        "import numpy as np\n",
        "import os\n",
        "\n",
        "# to make this notebook's output stable across runs\n",
        "np.random.seed(42)\n",
        "\n",
        "# To plot pretty figures\n",
        "%matplotlib inline\n",
        "%config InlineBackend.figure_format = 'retina'\n",
        "import matplotlib as mpl\n",
        "import matplotlib.pyplot as plt\n",
        "mpl.rc('axes', labelsize=14)\n",
        "mpl.rc('xtick', labelsize=12)\n",
        "mpl.rc('ytick', labelsize=12)\n",
        "\n",
        "# Where to save the figures\n",
        "PROJECT_ROOT_DIR = \".\"\n",
        "CHAPTER_ID = \"ann\"\n",
        "IMAGES_PATH = os.path.join(PROJECT_ROOT_DIR, \"images\", CHAPTER_ID)\n",
        "os.makedirs(IMAGES_PATH, exist_ok=True)\n",
        "\n",
        "def save_fig(fig_id, tight_layout=True, fig_extension=\"png\", resolution=300):\n",
        "    path = os.path.join(IMAGES_PATH, fig_id + \".\" + fig_extension)\n",
        "    print(\"Saving figure\", fig_id)\n",
        "    if tight_layout:\n",
        "        plt.tight_layout()\n",
        "    plt.savefig(path, format=fig_extension, dpi=resolution)\n",
        "\n",
        "# Ignore useless warnings (see SciPy issue #5998)\n",
        "import warnings\n",
        "warnings.filterwarnings(action=\"ignore\", message=\"^internal gelsd\")"
      ],
      "execution_count": null,
      "outputs": []
    },
    {
      "cell_type": "markdown",
      "metadata": {
        "id": "pA7idcWyp978",
        "colab_type": "text"
      },
      "source": [
        "# Building an Image Classifier"
      ]
    },
    {
      "cell_type": "markdown",
      "metadata": {
        "id": "Fzu-2Jd-p979",
        "colab_type": "text"
      },
      "source": [
        "First let's import TensorFlow and Keras.\n",
        "\n",
        "**Figure 14.:Tensorflow-Keras**\n",
        "![zax](https://miro.medium.com/max/1000/1*HLziSq4zU8TNCNJBuuQQVw.jpeg \"zax\")"
      ]
    },
    {
      "cell_type": "code",
      "metadata": {
        "id": "3UO1RDc2p979",
        "colab_type": "code",
        "colab": {}
      },
      "source": [
        "import tensorflow as tf\n",
        "from tensorflow import keras"
      ],
      "execution_count": null,
      "outputs": []
    },
    {
      "cell_type": "code",
      "metadata": {
        "id": "DAdGsg7Jp97_",
        "colab_type": "code",
        "colab": {},
        "outputId": "c368092d-9c79-4cfc-9736-6adee6a727d1"
      },
      "source": [
        "print(tf.__version__)\n",
        "print(keras.__version__)"
      ],
      "execution_count": null,
      "outputs": [
        {
          "output_type": "stream",
          "text": [
            "2.2.0\n",
            "2.3.0-tf\n"
          ],
          "name": "stdout"
        }
      ]
    },
    {
      "cell_type": "markdown",
      "metadata": {
        "id": "H-5yTJAup98C",
        "colab_type": "text"
      },
      "source": [
        "Let's start by loading the fashion MNIST dataset. Keras has a number of functions to load popular datasets in `keras.datasets`. The dataset is already split for you between a training set and a test set, but it can be useful to split the training set further to have a validation set:\n",
        "\n",
        "**Figure 15.:fashion MNIST dataset**\n",
        "![zax](https://miro.medium.com/max/798/1*PtQ2I-3RIFiCypor4u_Nbg.jpeg \"zax\")"
      ]
    },
    {
      "cell_type": "code",
      "metadata": {
        "id": "PXCZlWpRp98C",
        "colab_type": "code",
        "colab": {}
      },
      "source": [
        "fashion_mnist = keras.datasets.fashion_mnist\n",
        "(X_train_full, y_train_full), (X_test, y_test) = fashion_mnist.load_data()"
      ],
      "execution_count": null,
      "outputs": []
    },
    {
      "cell_type": "markdown",
      "metadata": {
        "id": "OWy9N0kip98E",
        "colab_type": "text"
      },
      "source": [
        "The training set contains 60,000 grayscale images, each 28x28 pixels:"
      ]
    },
    {
      "cell_type": "code",
      "metadata": {
        "id": "NF2HNu9Ap98E",
        "colab_type": "code",
        "colab": {},
        "outputId": "29d3e8f2-be72-4faf-c503-45aaa19b720b"
      },
      "source": [
        "X_train_full.shape"
      ],
      "execution_count": null,
      "outputs": [
        {
          "output_type": "execute_result",
          "data": {
            "text/plain": [
              "(60000, 28, 28)"
            ]
          },
          "metadata": {
            "tags": []
          },
          "execution_count": 5
        }
      ]
    },
    {
      "cell_type": "markdown",
      "metadata": {
        "id": "Y0BTuURbp98H",
        "colab_type": "text"
      },
      "source": [
        "Each pixel intensity is represented as a byte (0 to 255):"
      ]
    },
    {
      "cell_type": "code",
      "metadata": {
        "id": "pAyhsyKIp98H",
        "colab_type": "code",
        "colab": {},
        "outputId": "38010c21-214f-49f2-bfab-bdcd498acf68"
      },
      "source": [
        "X_train_full.dtype"
      ],
      "execution_count": null,
      "outputs": [
        {
          "output_type": "execute_result",
          "data": {
            "text/plain": [
              "dtype('uint8')"
            ]
          },
          "metadata": {
            "tags": []
          },
          "execution_count": 6
        }
      ]
    },
    {
      "cell_type": "markdown",
      "metadata": {
        "id": "bVgByxe0p98J",
        "colab_type": "text"
      },
      "source": [
        "Let's split the full training set into a validation set and a (smaller) training set. We also scale the pixel intensities down to the 0-1 range and convert them to floats, by dividing by 255."
      ]
    },
    {
      "cell_type": "code",
      "metadata": {
        "id": "LVGn3T0qp98J",
        "colab_type": "code",
        "colab": {}
      },
      "source": [
        "X_valid, X_train = X_train_full[:5000] / 255., X_train_full[5000:] / 255.\n",
        "y_valid, y_train = y_train_full[:5000], y_train_full[5000:]\n",
        "X_test = X_test / 255."
      ],
      "execution_count": null,
      "outputs": []
    },
    {
      "cell_type": "markdown",
      "metadata": {
        "id": "E4MpXsHkp98L",
        "colab_type": "text"
      },
      "source": [
        "You can plot an image using Matplotlib's `imshow()` function, with a `'binary'`\n",
        " color map:"
      ]
    },
    {
      "cell_type": "code",
      "metadata": {
        "id": "ROoZrXwRp98M",
        "colab_type": "code",
        "colab": {},
        "outputId": "13b4ee86-ad81-4ceb-fc16-204c54ab59a7"
      },
      "source": [
        "plt.imshow(X_train[0], cmap=\"binary\")\n",
        "plt.axis('off')\n",
        "plt.show()"
      ],
      "execution_count": null,
      "outputs": [
        {
          "output_type": "display_data",
          "data": {
            "image/png": "[encoded data removed]",
            "text/plain": [
              "<Figure size 432x288 with 1 Axes>"
            ]
          },
          "metadata": {
            "tags": [],
            "image/png": {
              "height": 231,
              "width": 231
            },
            "needs_background": "light"
          }
        }
      ]
    },
    {
      "cell_type": "markdown",
      "metadata": {
        "id": "R2chrCmwp98N",
        "colab_type": "text"
      },
      "source": [
        "The labels are the class IDs (represented as uint8), from 0 to 9:"
      ]
    },
    {
      "cell_type": "code",
      "metadata": {
        "id": "A4EXWlLtp98O",
        "colab_type": "code",
        "colab": {},
        "outputId": "63461955-6de0-4be3-e727-a84b93f1e841"
      },
      "source": [
        "y_train"
      ],
      "execution_count": null,
      "outputs": [
        {
          "output_type": "execute_result",
          "data": {
            "text/plain": [
              "array([4, 0, 7, ..., 3, 0, 5], dtype=uint8)"
            ]
          },
          "metadata": {
            "tags": []
          },
          "execution_count": 9
        }
      ]
    },
    {
      "cell_type": "markdown",
      "metadata": {
        "id": "4v7Sfg3xp98Q",
        "colab_type": "text"
      },
      "source": [
        "Here are the corresponding class names:"
      ]
    },
    {
      "cell_type": "code",
      "metadata": {
        "id": "ar0R0UMcp98S",
        "colab_type": "code",
        "colab": {}
      },
      "source": [
        "class_names = [\"T-shirt/top\", \"Trouser\", \"Pullover\", \"Dress\", \"Coat\",\n",
        "               \"Sandal\", \"Shirt\", \"Sneaker\", \"Bag\", \"Ankle boot\"]"
      ],
      "execution_count": null,
      "outputs": []
    },
    {
      "cell_type": "markdown",
      "metadata": {
        "id": "yUgtVDnlp98T",
        "colab_type": "text"
      },
      "source": [
        "So the first image in the training set is a coat:"
      ]
    },
    {
      "cell_type": "code",
      "metadata": {
        "id": "w8Qk8LD8p98U",
        "colab_type": "code",
        "colab": {},
        "outputId": "8ec43b2a-1364-4d3a-aeb5-c46372f1e897"
      },
      "source": [
        "class_names[y_train[0]]"
      ],
      "execution_count": null,
      "outputs": [
        {
          "output_type": "execute_result",
          "data": {
            "text/plain": [
              "'Coat'"
            ]
          },
          "metadata": {
            "tags": []
          },
          "execution_count": 11
        }
      ]
    },
    {
      "cell_type": "markdown",
      "metadata": {
        "id": "A3HsLEuJp98V",
        "colab_type": "text"
      },
      "source": [
        "The validation set contains 5,000 images, and the test set contains 10,000 images:"
      ]
    },
    {
      "cell_type": "code",
      "metadata": {
        "id": "azb9YG5Ap98W",
        "colab_type": "code",
        "colab": {},
        "outputId": "c548544b-2e87-485a-c0c6-621ca2a2cd83"
      },
      "source": [
        "X_valid.shape"
      ],
      "execution_count": null,
      "outputs": [
        {
          "output_type": "execute_result",
          "data": {
            "text/plain": [
              "(5000, 28, 28)"
            ]
          },
          "metadata": {
            "tags": []
          },
          "execution_count": 12
        }
      ]
    },
    {
      "cell_type": "code",
      "metadata": {
        "id": "Vt4Yh8e7p98Y",
        "colab_type": "code",
        "colab": {},
        "outputId": "d9bd6819-7e93-4385-ad19-a00d985beb68"
      },
      "source": [
        "X_test.shape"
      ],
      "execution_count": null,
      "outputs": [
        {
          "output_type": "execute_result",
          "data": {
            "text/plain": [
              "(10000, 28, 28)"
            ]
          },
          "metadata": {
            "tags": []
          },
          "execution_count": 13
        }
      ]
    },
    {
      "cell_type": "markdown",
      "metadata": {
        "id": "RSWMSMksp98Z",
        "colab_type": "text"
      },
      "source": [
        "Let's take a look at a sample of the images in the dataset:"
      ]
    },
    {
      "cell_type": "code",
      "metadata": {
        "id": "V0VOesnzp98a",
        "colab_type": "code",
        "colab": {},
        "outputId": "5d9f9daf-76d7-4060-d5f7-3096eac53c53"
      },
      "source": [
        "n_rows = 4\n",
        "n_cols = 10\n",
        "plt.figure(figsize=(n_cols * 1.2, n_rows * 1.2))\n",
        "for row in range(n_rows):\n",
        "    for col in range(n_cols):\n",
        "        index = n_cols * row + col\n",
        "        plt.subplot(n_rows, n_cols, index + 1)\n",
        "        plt.imshow(X_train[index], cmap=\"binary\", interpolation=\"nearest\")\n",
        "        plt.axis('off')\n",
        "        plt.title(class_names[y_train[index]], fontsize=12)\n",
        "plt.subplots_adjust(wspace=0.2, hspace=0.5)\n",
        "save_fig('fashion_mnist_plot', tight_layout=False)\n",
        "plt.show()"
      ],
      "execution_count": null,
      "outputs": [
        {
          "output_type": "stream",
          "text": [
            "Saving figure fashion_mnist_plot\n"
          ],
          "name": "stdout"
        },
        {
          "output_type": "display_data",
          "data": {
            "image/png": "[encoded data removed]",
            "text/plain": [
              "<Figure size 864x345.6 with 40 Axes>"
            ]
          },
          "metadata": {
            "tags": [],
            "image/png": {
              "height": 290,
              "width": 681
            },
            "needs_background": "light"
          }
        }
      ]
    },
    {
      "cell_type": "markdown",
      "metadata": {
        "id": "8J0KdWKnp98c",
        "colab_type": "text"
      },
      "source": [
        "## Creating the model using the Sequential API "
      ]
    },
    {
      "cell_type": "code",
      "metadata": {
        "id": "yhaUtKXIp98c",
        "colab_type": "code",
        "colab": {}
      },
      "source": [
        "model = keras.models.Sequential()\n",
        "model.add(keras.layers.Flatten(input_shape=[28, 28]))\n",
        "model.add(keras.layers.Dense(300, activation=\"relu\"))\n",
        "model.add(keras.layers.Dense(100, activation=\"relu\"))\n",
        "model.add(keras.layers.Dense(10, activation=\"softmax\"))"
      ],
      "execution_count": null,
      "outputs": []
    },
    {
      "cell_type": "code",
      "metadata": {
        "id": "FdfZ6yV4p98d",
        "colab_type": "code",
        "colab": {},
        "outputId": "920db679-ea80-4e13-93f8-53575b8d6855"
      },
      "source": [
        "model.summary()"
      ],
      "execution_count": null,
      "outputs": [
        {
          "output_type": "stream",
          "text": [
            "Model: \"sequential\"\n",
            "_________________________________________________________________\n",
            "Layer (type)                 Output Shape              Param #   \n",
            "=================================================================\n",
            "flatten (Flatten)            (None, 784)               0         \n",
            "_________________________________________________________________\n",
            "dense (Dense)                (None, 300)               235500    \n",
            "_________________________________________________________________\n",
            "dense_1 (Dense)              (None, 100)               30100     \n",
            "_________________________________________________________________\n",
            "dense_2 (Dense)              (None, 10)                1010      \n",
            "=================================================================\n",
            "Total params: 266,610\n",
            "Trainable params: 266,610\n",
            "Non-trainable params: 0\n",
            "_________________________________________________________________\n"
          ],
          "name": "stdout"
        }
      ]
    },
    {
      "cell_type": "code",
      "metadata": {
        "id": "ZfnHuT40p98f",
        "colab_type": "code",
        "colab": {}
      },
      "source": [
        "keras.backend.clear_session()\n",
        "np.random.seed(42)\n",
        "tf.random.set_seed(42)"
      ],
      "execution_count": null,
      "outputs": []
    },
    {
      "cell_type": "code",
      "metadata": {
        "id": "P69mXlXKp98h",
        "colab_type": "code",
        "colab": {}
      },
      "source": [
        "model = keras.models.Sequential([\n",
        "    keras.layers.Flatten(input_shape=[28, 28]),\n",
        "    keras.layers.Dense(300, activation=\"relu\", name=\"Layer_Dense\"),\n",
        "    keras.layers.Dense(100, activation=\"relu\"),\n",
        "    keras.layers.Dense(10, activation=\"softmax\")\n",
        "])"
      ],
      "execution_count": null,
      "outputs": []
    },
    {
      "cell_type": "code",
      "metadata": {
        "id": "NUjxLrgfp98i",
        "colab_type": "code",
        "colab": {},
        "outputId": "9e98a7bd-2025-4732-cfb9-ecca75cfe274"
      },
      "source": [
        "model.summary()"
      ],
      "execution_count": null,
      "outputs": [
        {
          "output_type": "stream",
          "text": [
            "Model: \"sequential\"\n",
            "_________________________________________________________________\n",
            "Layer (type)                 Output Shape              Param #   \n",
            "=================================================================\n",
            "flatten (Flatten)            (None, 784)               0         \n",
            "_________________________________________________________________\n",
            "Layer_Dense (Dense)          (None, 300)               235500    \n",
            "_________________________________________________________________\n",
            "dense (Dense)                (None, 100)               30100     \n",
            "_________________________________________________________________\n",
            "dense_1 (Dense)              (None, 10)                1010      \n",
            "=================================================================\n",
            "Total params: 266,610\n",
            "Trainable params: 266,610\n",
            "Non-trainable params: 0\n",
            "_________________________________________________________________\n"
          ],
          "name": "stdout"
        }
      ]
    },
    {
      "cell_type": "markdown",
      "metadata": {
        "id": "z30jP4bGp98k",
        "colab_type": "text"
      },
      "source": [
        "You can easily get a model’s list of layers, to fetch a layer by its index, or you can fetch it by name:\n"
      ]
    },
    {
      "cell_type": "code",
      "metadata": {
        "id": "FyxHTQWKp98k",
        "colab_type": "code",
        "colab": {},
        "outputId": "b0d953de-a7ae-4c9b-9e0c-0859d855d6fd"
      },
      "source": [
        "model.layers"
      ],
      "execution_count": null,
      "outputs": [
        {
          "output_type": "execute_result",
          "data": {
            "text/plain": [
              "[<tensorflow.python.keras.layers.core.Flatten at 0x21749a2e088>,\n",
              " <tensorflow.python.keras.layers.core.Dense at 0x21749a2e2c8>,\n",
              " <tensorflow.python.keras.layers.core.Dense at 0x21749a2e508>,\n",
              " <tensorflow.python.keras.layers.core.Dense at 0x21749a2e7c8>]"
            ]
          },
          "metadata": {
            "tags": []
          },
          "execution_count": 20
        }
      ]
    },
    {
      "cell_type": "code",
      "metadata": {
        "id": "CoF4M6oVp98m",
        "colab_type": "code",
        "colab": {},
        "outputId": "4201d52c-5f48-48f0-ac49-0e8136a51136"
      },
      "source": [
        "keras.utils.plot_model(model, \"my_fashion_mnist_model.png\", show_shapes=True)"
      ],
      "execution_count": null,
      "outputs": [
        {
          "output_type": "execute_result",
          "data": {
            "image/png": "[encoded data removed]",
            "text/plain": [
              "<IPython.core.display.Image object>"
            ]
          },
          "metadata": {
            "tags": []
          },
          "execution_count": 21
        }
      ]
    },
    {
      "cell_type": "code",
      "metadata": {
        "id": "OJ7vk1d9p98o",
        "colab_type": "code",
        "colab": {},
        "outputId": "ef3914eb-638d-4b16-82ee-da26cc3bbb24"
      },
      "source": [
        "hidden1 = model.layers[1]\n",
        "hidden1.name"
      ],
      "execution_count": null,
      "outputs": [
        {
          "output_type": "execute_result",
          "data": {
            "text/plain": [
              "'Layer_Dense'"
            ]
          },
          "metadata": {
            "tags": []
          },
          "execution_count": 22
        }
      ]
    },
    {
      "cell_type": "markdown",
      "metadata": {
        "id": "rX5uom2mp98q",
        "colab_type": "text"
      },
      "source": [
        "All the parameters of a layer can be accessed using its `get_weights()` and `set_weights()` methods. For a Dense layer, this includes both the connection weights and the bias terms:\n"
      ]
    },
    {
      "cell_type": "code",
      "metadata": {
        "id": "R65hv-dVp98q",
        "colab_type": "code",
        "colab": {}
      },
      "source": [
        "weights, biases = hidden1.get_weights()"
      ],
      "execution_count": null,
      "outputs": []
    },
    {
      "cell_type": "code",
      "metadata": {
        "id": "KY3PubjYp98r",
        "colab_type": "code",
        "colab": {},
        "outputId": "d5365cc1-1921-4279-a738-e9106a94c5a5"
      },
      "source": [
        "weights"
      ],
      "execution_count": null,
      "outputs": [
        {
          "output_type": "execute_result",
          "data": {
            "text/plain": [
              "array([[ 0.02448617, -0.00877795, -0.02189048, ..., -0.02766046,\n",
              "         0.03859074, -0.06889391],\n",
              "       [ 0.00476504, -0.03105379, -0.0586676 , ...,  0.00602964,\n",
              "        -0.02763776, -0.04165364],\n",
              "       [-0.06189284, -0.06901957,  0.07102345, ..., -0.04238207,\n",
              "         0.07121518, -0.07331658],\n",
              "       ...,\n",
              "       [-0.03048757,  0.02155137, -0.05400612, ..., -0.00113463,\n",
              "         0.00228987,  0.05581069],\n",
              "       [ 0.07061854, -0.06960931,  0.07038955, ..., -0.00384101,\n",
              "         0.00034875,  0.02878492],\n",
              "       [-0.06022581,  0.01577859, -0.02585464, ..., -0.00527829,\n",
              "         0.00272203, -0.06793761]], dtype=float32)"
            ]
          },
          "metadata": {
            "tags": []
          },
          "execution_count": 24
        }
      ]
    },
    {
      "cell_type": "code",
      "metadata": {
        "id": "o54WOi-up98t",
        "colab_type": "code",
        "colab": {},
        "outputId": "e0cfe636-1442-47e0-9ae7-1dba9883600a"
      },
      "source": [
        "weights.shape"
      ],
      "execution_count": null,
      "outputs": [
        {
          "output_type": "execute_result",
          "data": {
            "text/plain": [
              "(784, 300)"
            ]
          },
          "metadata": {
            "tags": []
          },
          "execution_count": 25
        }
      ]
    },
    {
      "cell_type": "code",
      "metadata": {
        "id": "rJUjr4Nxp98u",
        "colab_type": "code",
        "colab": {},
        "outputId": "1e83da7b-09c3-422d-e721-4f90f97cfe76"
      },
      "source": [
        "biases"
      ],
      "execution_count": null,
      "outputs": [
        {
          "output_type": "execute_result",
          "data": {
            "text/plain": [
              "array([0., 0., 0., 0., 0., 0., 0., 0., 0., 0., 0., 0., 0., 0., 0., 0., 0.,\n",
              "       0., 0., 0., 0., 0., 0., 0., 0., 0., 0., 0., 0., 0., 0., 0., 0., 0.,\n",
              "       0., 0., 0., 0., 0., 0., 0., 0., 0., 0., 0., 0., 0., 0., 0., 0., 0.,\n",
              "       0., 0., 0., 0., 0., 0., 0., 0., 0., 0., 0., 0., 0., 0., 0., 0., 0.,\n",
              "       0., 0., 0., 0., 0., 0., 0., 0., 0., 0., 0., 0., 0., 0., 0., 0., 0.,\n",
              "       0., 0., 0., 0., 0., 0., 0., 0., 0., 0., 0., 0., 0., 0., 0., 0., 0.,\n",
              "       0., 0., 0., 0., 0., 0., 0., 0., 0., 0., 0., 0., 0., 0., 0., 0., 0.,\n",
              "       0., 0., 0., 0., 0., 0., 0., 0., 0., 0., 0., 0., 0., 0., 0., 0., 0.,\n",
              "       0., 0., 0., 0., 0., 0., 0., 0., 0., 0., 0., 0., 0., 0., 0., 0., 0.,\n",
              "       0., 0., 0., 0., 0., 0., 0., 0., 0., 0., 0., 0., 0., 0., 0., 0., 0.,\n",
              "       0., 0., 0., 0., 0., 0., 0., 0., 0., 0., 0., 0., 0., 0., 0., 0., 0.,\n",
              "       0., 0., 0., 0., 0., 0., 0., 0., 0., 0., 0., 0., 0., 0., 0., 0., 0.,\n",
              "       0., 0., 0., 0., 0., 0., 0., 0., 0., 0., 0., 0., 0., 0., 0., 0., 0.,\n",
              "       0., 0., 0., 0., 0., 0., 0., 0., 0., 0., 0., 0., 0., 0., 0., 0., 0.,\n",
              "       0., 0., 0., 0., 0., 0., 0., 0., 0., 0., 0., 0., 0., 0., 0., 0., 0.,\n",
              "       0., 0., 0., 0., 0., 0., 0., 0., 0., 0., 0., 0., 0., 0., 0., 0., 0.,\n",
              "       0., 0., 0., 0., 0., 0., 0., 0., 0., 0., 0., 0., 0., 0., 0., 0., 0.,\n",
              "       0., 0., 0., 0., 0., 0., 0., 0., 0., 0., 0.], dtype=float32)"
            ]
          },
          "metadata": {
            "tags": []
          },
          "execution_count": 26
        }
      ]
    },
    {
      "cell_type": "code",
      "metadata": {
        "id": "rCHOIBCzp98w",
        "colab_type": "code",
        "colab": {},
        "outputId": "0c9015c9-293a-4169-d303-45d3cced9534"
      },
      "source": [
        "biases.shape"
      ],
      "execution_count": null,
      "outputs": [
        {
          "output_type": "execute_result",
          "data": {
            "text/plain": [
              "(300,)"
            ]
          },
          "metadata": {
            "tags": []
          },
          "execution_count": 27
        }
      ]
    },
    {
      "cell_type": "markdown",
      "metadata": {
        "id": "K5BH_wPEp98y",
        "colab_type": "text"
      },
      "source": [
        "## Compiling the model\n",
        "After a model is created, you must call its `compile()` method to specify the loss function and the optimizer to use. Optionally, you can specify a list of extra metrics to compute during training and evaluation:"
      ]
    },
    {
      "cell_type": "code",
      "metadata": {
        "id": "lz6apqSep98y",
        "colab_type": "code",
        "colab": {}
      },
      "source": [
        "model.compile(loss=\"sparse_categorical_crossentropy\",\n",
        "              optimizer=\"sgd\",\n",
        "              metrics=[\"accuracy\"])"
      ],
      "execution_count": null,
      "outputs": []
    },
    {
      "cell_type": "markdown",
      "metadata": {
        "id": "tQ_5_5NNp980",
        "colab_type": "text"
      },
      "source": [
        "## Training and evaluating the model \n",
        "Now the model is ready to be trained. For this we simply need to call its `fit()` method:"
      ]
    },
    {
      "cell_type": "code",
      "metadata": {
        "scrolled": true,
        "id": "bDdZ5MiRp980",
        "colab_type": "code",
        "colab": {},
        "outputId": "be3933af-9519-4cc5-e0c1-2846f42f2ab4"
      },
      "source": [
        "history = model.fit(X_train, y_train, epochs=30,\n",
        "                    validation_data=(X_valid, y_valid))"
      ],
      "execution_count": null,
      "outputs": [
        {
          "output_type": "stream",
          "text": [
            "Epoch 1/30\n",
            "1719/1719 [==============================] - 3s 2ms/step - loss: 0.7237 - accuracy: 0.7644 - val_loss: 0.5214 - val_accuracy: 0.8228\n",
            "Epoch 2/30\n",
            "1719/1719 [==============================] - 3s 2ms/step - loss: 0.4843 - accuracy: 0.8321 - val_loss: 0.4355 - val_accuracy: 0.8514\n",
            "Epoch 3/30\n",
            "1719/1719 [==============================] - 3s 2ms/step - loss: 0.4392 - accuracy: 0.8456 - val_loss: 0.5282 - val_accuracy: 0.8004\n",
            "Epoch 4/30\n",
            "1719/1719 [==============================] - 3s 2ms/step - loss: 0.4123 - accuracy: 0.8565 - val_loss: 0.3918 - val_accuracy: 0.8650\n",
            "Epoch 5/30\n",
            "1719/1719 [==============================] - 3s 2ms/step - loss: 0.3937 - accuracy: 0.8621 - val_loss: 0.3744 - val_accuracy: 0.8680\n",
            "Epoch 6/30\n",
            "1719/1719 [==============================] - 3s 2ms/step - loss: 0.3749 - accuracy: 0.8675 - val_loss: 0.3701 - val_accuracy: 0.8728\n",
            "Epoch 7/30\n",
            "1719/1719 [==============================] - 3s 2ms/step - loss: 0.3630 - accuracy: 0.8716 - val_loss: 0.3615 - val_accuracy: 0.8718\n",
            "Epoch 8/30\n",
            "1719/1719 [==============================] - 3s 2ms/step - loss: 0.3516 - accuracy: 0.8751 - val_loss: 0.3859 - val_accuracy: 0.8628\n",
            "Epoch 9/30\n",
            "1719/1719 [==============================] - 3s 2ms/step - loss: 0.3414 - accuracy: 0.8784 - val_loss: 0.3597 - val_accuracy: 0.8704\n",
            "Epoch 10/30\n",
            "1719/1719 [==============================] - 3s 2ms/step - loss: 0.3319 - accuracy: 0.8822 - val_loss: 0.3439 - val_accuracy: 0.8788\n",
            "Epoch 11/30\n",
            "1719/1719 [==============================] - 3s 2ms/step - loss: 0.3239 - accuracy: 0.8837 - val_loss: 0.3443 - val_accuracy: 0.8784\n",
            "Epoch 12/30\n",
            "1719/1719 [==============================] - 3s 2ms/step - loss: 0.3149 - accuracy: 0.8866 - val_loss: 0.3311 - val_accuracy: 0.8808\n",
            "Epoch 13/30\n",
            "1719/1719 [==============================] - 3s 2ms/step - loss: 0.3080 - accuracy: 0.8891 - val_loss: 0.3275 - val_accuracy: 0.8884\n",
            "Epoch 14/30\n",
            "1719/1719 [==============================] - 3s 2ms/step - loss: 0.3022 - accuracy: 0.8913 - val_loss: 0.3420 - val_accuracy: 0.8768\n",
            "Epoch 15/30\n",
            "1719/1719 [==============================] - 3s 2ms/step - loss: 0.2946 - accuracy: 0.8938 - val_loss: 0.3221 - val_accuracy: 0.8850\n",
            "Epoch 16/30\n",
            "1719/1719 [==============================] - 3s 2ms/step - loss: 0.2892 - accuracy: 0.8969 - val_loss: 0.3094 - val_accuracy: 0.8890\n",
            "Epoch 17/30\n",
            "1719/1719 [==============================] - 3s 2ms/step - loss: 0.2839 - accuracy: 0.8977 - val_loss: 0.3560 - val_accuracy: 0.8728\n",
            "Epoch 18/30\n",
            "1719/1719 [==============================] - 3s 2ms/step - loss: 0.2779 - accuracy: 0.9000 - val_loss: 0.3124 - val_accuracy: 0.8906\n",
            "Epoch 19/30\n",
            "1719/1719 [==============================] - 3s 2ms/step - loss: 0.2729 - accuracy: 0.9020 - val_loss: 0.3114 - val_accuracy: 0.8910\n",
            "Epoch 20/30\n",
            "1719/1719 [==============================] - 3s 2ms/step - loss: 0.2675 - accuracy: 0.9034 - val_loss: 0.3285 - val_accuracy: 0.8820\n",
            "Epoch 21/30\n",
            "1719/1719 [==============================] - 3s 2ms/step - loss: 0.2626 - accuracy: 0.9055 - val_loss: 0.3059 - val_accuracy: 0.8932\n",
            "Epoch 22/30\n",
            "1719/1719 [==============================] - 3s 2ms/step - loss: 0.2577 - accuracy: 0.9073 - val_loss: 0.2972 - val_accuracy: 0.8958\n",
            "Epoch 23/30\n",
            "1719/1719 [==============================] - 3s 2ms/step - loss: 0.2539 - accuracy: 0.9081 - val_loss: 0.2979 - val_accuracy: 0.8946\n",
            "Epoch 24/30\n",
            "1719/1719 [==============================] - 3s 2ms/step - loss: 0.2487 - accuracy: 0.9104 - val_loss: 0.3079 - val_accuracy: 0.8882\n",
            "Epoch 25/30\n",
            "1719/1719 [==============================] - 3s 2ms/step - loss: 0.2446 - accuracy: 0.9122 - val_loss: 0.2975 - val_accuracy: 0.8944\n",
            "Epoch 26/30\n",
            "1719/1719 [==============================] - 3s 2ms/step - loss: 0.2408 - accuracy: 0.9139 - val_loss: 0.3067 - val_accuracy: 0.8898\n",
            "Epoch 27/30\n",
            "1719/1719 [==============================] - 3s 2ms/step - loss: 0.2366 - accuracy: 0.9149 - val_loss: 0.3023 - val_accuracy: 0.8950\n",
            "Epoch 28/30\n",
            "1719/1719 [==============================] - 3s 2ms/step - loss: 0.2330 - accuracy: 0.9162 - val_loss: 0.2999 - val_accuracy: 0.8952\n",
            "Epoch 29/30\n",
            "1719/1719 [==============================] - 3s 2ms/step - loss: 0.2286 - accuracy: 0.9179 - val_loss: 0.3061 - val_accuracy: 0.8910\n",
            "Epoch 30/30\n",
            "1719/1719 [==============================] - 3s 2ms/step - loss: 0.2255 - accuracy: 0.9194 - val_loss: 0.3025 - val_accuracy: 0.8928\n"
          ],
          "name": "stdout"
        }
      ]
    },
    {
      "cell_type": "code",
      "metadata": {
        "id": "VVKi74qzp983",
        "colab_type": "code",
        "colab": {},
        "outputId": "8c12e9e8-e853-43ac-d994-40d2ef91122c"
      },
      "source": [
        "history.params"
      ],
      "execution_count": null,
      "outputs": [
        {
          "output_type": "execute_result",
          "data": {
            "text/plain": [
              "{'verbose': 1, 'epochs': 30, 'steps': 1719}"
            ]
          },
          "metadata": {
            "tags": []
          },
          "execution_count": 30
        }
      ]
    },
    {
      "cell_type": "code",
      "metadata": {
        "id": "7D9m0fhQp985",
        "colab_type": "code",
        "colab": {},
        "outputId": "046150b9-21e6-4ed4-d13f-91ef32cf8e92"
      },
      "source": [
        "print(history.epoch)"
      ],
      "execution_count": null,
      "outputs": [
        {
          "output_type": "stream",
          "text": [
            "[0, 1, 2, 3, 4, 5, 6, 7, 8, 9, 10, 11, 12, 13, 14, 15, 16, 17, 18, 19, 20, 21, 22, 23, 24, 25, 26, 27, 28, 29]\n"
          ],
          "name": "stdout"
        }
      ]
    },
    {
      "cell_type": "code",
      "metadata": {
        "id": "yul0SsfUp986",
        "colab_type": "code",
        "colab": {},
        "outputId": "cb209952-6f28-45d0-b051-a75ca389fe8d"
      },
      "source": [
        "history.history.keys()"
      ],
      "execution_count": null,
      "outputs": [
        {
          "output_type": "execute_result",
          "data": {
            "text/plain": [
              "dict_keys(['loss', 'accuracy', 'val_loss', 'val_accuracy'])"
            ]
          },
          "metadata": {
            "tags": []
          },
          "execution_count": 32
        }
      ]
    },
    {
      "cell_type": "code",
      "metadata": {
        "id": "4KlrQld6p988",
        "colab_type": "code",
        "colab": {},
        "outputId": "954436bb-0dfd-417e-d214-b3454ec2bfda"
      },
      "source": [
        "import pandas as pd\n",
        "\n",
        "pd.DataFrame(history.history).plot(figsize=(8, 5))\n",
        "plt.grid(True)\n",
        "plt.gca().set_ylim(0, 1)\n",
        "save_fig(\"keras_learning_curves_plot\")\n",
        "plt.show()"
      ],
      "execution_count": null,
      "outputs": [
        {
          "output_type": "stream",
          "text": [
            "Saving figure keras_learning_curves_plot\n"
          ],
          "name": "stdout"
        },
        {
          "output_type": "display_data",
          "data": {
            "image/png": "[encoded data removed]",
            "text/plain": [
              "<Figure size 576x360 with 1 Axes>"
            ]
          },
          "metadata": {
            "tags": [],
            "image/png": {
              "height": 351,
              "width": 568
            },
            "needs_background": "light"
          }
        }
      ]
    },
    {
      "cell_type": "code",
      "metadata": {
        "id": "a0Z-NWiQp989",
        "colab_type": "code",
        "colab": {},
        "outputId": "2d2f7842-d942-41ab-c504-ad1b7370ddc7"
      },
      "source": [
        "model.evaluate(X_test, y_test)"
      ],
      "execution_count": null,
      "outputs": [
        {
          "output_type": "stream",
          "text": [
            "313/313 [==============================] - 0s 1ms/step - loss: 0.3363 - accuracy: 0.8827\n"
          ],
          "name": "stdout"
        },
        {
          "output_type": "execute_result",
          "data": {
            "text/plain": [
              "[0.336312472820282, 0.8827000260353088]"
            ]
          },
          "metadata": {
            "tags": []
          },
          "execution_count": 34
        }
      ]
    },
    {
      "cell_type": "markdown",
      "metadata": {
        "id": "kbxqjXZDp98_",
        "colab_type": "text"
      },
      "source": [
        "## Using the model to make predictions \n",
        "Next, we can use the model’s `predict()` method to make predictions on new instances. Since we don’t have actual new instances, we will just use the first three instances of the test set:"
      ]
    },
    {
      "cell_type": "code",
      "metadata": {
        "id": "wNvZmLi_p98_",
        "colab_type": "code",
        "colab": {},
        "outputId": "f2cba7fe-1e53-40eb-a54f-df067bd60b6b"
      },
      "source": [
        "X_new = X_test[:3]\n",
        "y_proba = model.predict(X_new)\n",
        "y_proba.round(2)"
      ],
      "execution_count": null,
      "outputs": [
        {
          "output_type": "execute_result",
          "data": {
            "text/plain": [
              "array([[0.  , 0.  , 0.  , 0.  , 0.  , 0.01, 0.  , 0.02, 0.  , 0.96],\n",
              "       [0.  , 0.  , 0.98, 0.  , 0.02, 0.  , 0.  , 0.  , 0.  , 0.  ],\n",
              "       [0.  , 1.  , 0.  , 0.  , 0.  , 0.  , 0.  , 0.  , 0.  , 0.  ]],\n",
              "      dtype=float32)"
            ]
          },
          "metadata": {
            "tags": []
          },
          "execution_count": 35
        }
      ]
    },
    {
      "cell_type": "markdown",
      "metadata": {
        "id": "rTOOyrRmp99B",
        "colab_type": "text"
      },
      "source": [
        "If you only care about the class with the highest estimated probability (even if that probability is quite low), then you can use the `predict_classes()` method instead:\n"
      ]
    },
    {
      "cell_type": "code",
      "metadata": {
        "id": "ZQvxe_ZWp99B",
        "colab_type": "code",
        "colab": {},
        "outputId": "eae22bbb-4fac-4664-c42e-c259e29e92ae"
      },
      "source": [
        "y_pred = model.predict_classes(X_new)\n",
        "y_pred"
      ],
      "execution_count": null,
      "outputs": [
        {
          "output_type": "stream",
          "text": [
            "WARNING:tensorflow:From <ipython-input-36-81ace37e545f>:1: Sequential.predict_classes (from tensorflow.python.keras.engine.sequential) is deprecated and will be removed after 2021-01-01.\n",
            "Instructions for updating:\n",
            "Please use instead:* `np.argmax(model.predict(x), axis=-1)`,   if your model does multi-class classification   (e.g. if it uses a `softmax` last-layer activation).* `(model.predict(x) > 0.5).astype(\"int32\")`,   if your model does binary classification   (e.g. if it uses a `sigmoid` last-layer activation).\n"
          ],
          "name": "stdout"
        },
        {
          "output_type": "execute_result",
          "data": {
            "text/plain": [
              "array([9, 2, 1], dtype=int64)"
            ]
          },
          "metadata": {
            "tags": []
          },
          "execution_count": 36
        }
      ]
    },
    {
      "cell_type": "code",
      "metadata": {
        "id": "d-5jqmWZp99D",
        "colab_type": "code",
        "colab": {},
        "outputId": "ae12e1cb-70e9-4e97-b51c-98b717aebc68"
      },
      "source": [
        "y_pred_new = np.argmax(model.predict(X_new), axis=-1)\n",
        "y_pred_new"
      ],
      "execution_count": null,
      "outputs": [
        {
          "output_type": "execute_result",
          "data": {
            "text/plain": [
              "array([9, 2, 1], dtype=int64)"
            ]
          },
          "metadata": {
            "tags": []
          },
          "execution_count": 37
        }
      ]
    },
    {
      "cell_type": "code",
      "metadata": {
        "id": "PNVZBi8Cp99F",
        "colab_type": "code",
        "colab": {},
        "outputId": "2675e573-61e2-4acb-8eed-dedbde69d43d"
      },
      "source": [
        "np.array(class_names)[y_pred]"
      ],
      "execution_count": null,
      "outputs": [
        {
          "output_type": "execute_result",
          "data": {
            "text/plain": [
              "array(['Ankle boot', 'Pullover', 'Trouser'], dtype='<U11')"
            ]
          },
          "metadata": {
            "tags": []
          },
          "execution_count": 38
        }
      ]
    },
    {
      "cell_type": "code",
      "metadata": {
        "id": "Di7ovZFBp99H",
        "colab_type": "code",
        "colab": {},
        "outputId": "cc466f8b-1486-4f11-fe1a-b58dfc487e06"
      },
      "source": [
        "plt.figure(figsize=(7.2, 2.4))\n",
        "for index, image in enumerate(X_new):\n",
        "    plt.subplot(1, 3, index + 1)\n",
        "    plt.imshow(image, cmap=\"binary\", interpolation=\"nearest\")\n",
        "    plt.axis('off')\n",
        "    plt.title(class_names[y_test[index]], fontsize=12)\n",
        "plt.subplots_adjust(wspace=0.2, hspace=0.5)\n",
        "save_fig('fashion_mnist_images_plot', tight_layout=False)\n",
        "plt.show()"
      ],
      "execution_count": null,
      "outputs": [
        {
          "output_type": "stream",
          "text": [
            "Saving figure fashion_mnist_images_plot\n"
          ],
          "name": "stdout"
        },
        {
          "output_type": "display_data",
          "data": {
            "image/png": "[encoded data removed]",
            "text/plain": [
              "<Figure size 518.4x172.8 with 3 Axes>"
            ]
          },
          "metadata": {
            "tags": [],
            "image/png": {
              "height": 148,
              "width": 416
            },
            "needs_background": "light"
          }
        }
      ]
    },
    {
      "cell_type": "markdown",
      "metadata": {
        "id": "sgFyoRmDp99J",
        "colab_type": "text"
      },
      "source": [
        "# Saving and Restoring a Model "
      ]
    },
    {
      "cell_type": "markdown",
      "metadata": {
        "id": "hYwoi6Xwp99J",
        "colab_type": "text"
      },
      "source": [
        "When using the Sequential API or the Functional API, saving a trained Keras model is as simple as it gets:\n"
      ]
    },
    {
      "cell_type": "code",
      "metadata": {
        "id": "LHxZLv-tp99K",
        "colab_type": "code",
        "colab": {}
      },
      "source": [
        "model.save(\"my_keras_model.h5\")"
      ],
      "execution_count": null,
      "outputs": []
    },
    {
      "cell_type": "code",
      "metadata": {
        "id": "4Vbyvd76p99M",
        "colab_type": "code",
        "colab": {}
      },
      "source": [
        "model = keras.models.load_model(\"my_keras_model.h5\")"
      ],
      "execution_count": null,
      "outputs": []
    },
    {
      "cell_type": "code",
      "metadata": {
        "id": "bfVidtvCp99N",
        "colab_type": "code",
        "colab": {},
        "outputId": "2118c155-84cd-45d1-fdb6-218cc1a25298"
      },
      "source": [
        "model.predict(X_new)"
      ],
      "execution_count": null,
      "outputs": [
        {
          "output_type": "execute_result",
          "data": {
            "text/plain": [
              "array([[5.02787907e-06, 2.97870230e-07, 9.56446602e-05, 8.73810677e-06,\n",
              "        4.22705671e-06, 1.14699788e-02, 6.50834045e-06, 2.48890258e-02,\n",
              "        7.54724490e-04, 9.62765753e-01],\n",
              "       [1.38281284e-05, 2.58712145e-08, 9.81221318e-01, 1.52978696e-08,\n",
              "        1.84537247e-02, 1.00866225e-11, 3.11207841e-04, 8.18731714e-12,\n",
              "        9.86996618e-09, 1.72229106e-11],\n",
              "       [2.56918770e-06, 9.99996901e-01, 1.91006109e-08, 3.75064928e-07,\n",
              "        1.34002264e-07, 1.34961297e-13, 6.27746966e-10, 4.46630227e-13,\n",
              "        1.22144383e-08, 1.50935796e-12]], dtype=float32)"
            ]
          },
          "metadata": {
            "tags": []
          },
          "execution_count": 42
        }
      ]
    },
    {
      "cell_type": "code",
      "metadata": {
        "id": "aec73X8Dp99P",
        "colab_type": "code",
        "colab": {}
      },
      "source": [
        "model.save_weights(\"my_keras_weights.ckpt\")"
      ],
      "execution_count": null,
      "outputs": []
    },
    {
      "cell_type": "code",
      "metadata": {
        "id": "AXowV9-0p99Q",
        "colab_type": "code",
        "colab": {},
        "outputId": "06fdd494-158b-4b6d-b60f-8926221d38fb"
      },
      "source": [
        "model.load_weights(\"my_keras_weights.ckpt\")"
      ],
      "execution_count": null,
      "outputs": [
        {
          "output_type": "execute_result",
          "data": {
            "text/plain": [
              "<tensorflow.python.training.tracking.util.CheckpointLoadStatus at 0x2177cedaa88>"
            ]
          },
          "metadata": {
            "tags": []
          },
          "execution_count": 44
        }
      ]
    },
    {
      "cell_type": "markdown",
      "metadata": {
        "id": "pe-dSnzep99S",
        "colab_type": "text"
      },
      "source": [
        "# Using Callbacks "
      ]
    },
    {
      "cell_type": "code",
      "metadata": {
        "id": "lUUf3PECp99T",
        "colab_type": "code",
        "colab": {}
      },
      "source": [
        "keras.backend.clear_session()\n",
        "np.random.seed(42)\n",
        "tf.random.set_seed(42)"
      ],
      "execution_count": null,
      "outputs": []
    },
    {
      "cell_type": "code",
      "metadata": {
        "id": "bsmdLQ_xp99U",
        "colab_type": "code",
        "colab": {}
      },
      "source": [
        "model_2 = keras.models.Sequential([\n",
        "    keras.layers.Flatten(input_shape=[28, 28]),\n",
        "    keras.layers.Dense(300, activation=\"relu\", name=\"Layer_Dense\"),\n",
        "    keras.layers.Dense(100, activation=\"relu\"),\n",
        "    keras.layers.Dense(10, activation=\"softmax\")\n",
        "])"
      ],
      "execution_count": null,
      "outputs": []
    },
    {
      "cell_type": "code",
      "metadata": {
        "id": "RkdzU-INp99W",
        "colab_type": "code",
        "colab": {}
      },
      "source": [
        "model_2.compile(loss=\"sparse_categorical_crossentropy\",\n",
        "              optimizer=\"sgd\",\n",
        "              metrics=[\"accuracy\"])"
      ],
      "execution_count": null,
      "outputs": []
    },
    {
      "cell_type": "markdown",
      "metadata": {
        "id": "Qb_aPZGBp99Z",
        "colab_type": "text"
      },
      "source": [
        "The `ModelCheckpoint` callback saves checkpoints of your model at regular intervals during training, by default at the end of each epoch:\n"
      ]
    },
    {
      "cell_type": "code",
      "metadata": {
        "scrolled": true,
        "id": "whKOZGw4p99Z",
        "colab_type": "code",
        "colab": {},
        "outputId": "4396f219-b69d-4cee-eff9-60250bf69ae9"
      },
      "source": [
        "checkpoint_cb = keras.callbacks.ModelCheckpoint(\"my_keras_model_2.h5\", save_best_only=True)\n",
        "history = model.fit(X_train, y_train, epochs=10,\n",
        "                    validation_data=(X_valid, y_valid),\n",
        "                    callbacks=[checkpoint_cb])"
      ],
      "execution_count": null,
      "outputs": [
        {
          "output_type": "stream",
          "text": [
            "Epoch 1/10\n",
            "1719/1719 [==============================] - 3s 2ms/step - loss: 0.2208 - accuracy: 0.9205 - val_loss: 0.2883 - val_accuracy: 0.8960\n",
            "Epoch 2/10\n",
            "1719/1719 [==============================] - 3s 2ms/step - loss: 0.2178 - accuracy: 0.9219 - val_loss: 0.2939 - val_accuracy: 0.8950\n",
            "Epoch 3/10\n",
            "1719/1719 [==============================] - 3s 2ms/step - loss: 0.2140 - accuracy: 0.9233 - val_loss: 0.3906 - val_accuracy: 0.8582\n",
            "Epoch 4/10\n",
            "1719/1719 [==============================] - 3s 2ms/step - loss: 0.2106 - accuracy: 0.9254 - val_loss: 0.2911 - val_accuracy: 0.8972\n",
            "Epoch 5/10\n",
            "1719/1719 [==============================] - 3s 2ms/step - loss: 0.2088 - accuracy: 0.9243 - val_loss: 0.2806 - val_accuracy: 0.8982\n",
            "Epoch 6/10\n",
            "1719/1719 [==============================] - 3s 2ms/step - loss: 0.2036 - accuracy: 0.9269 - val_loss: 0.2988 - val_accuracy: 0.8946\n",
            "Epoch 7/10\n",
            "1719/1719 [==============================] - 3s 2ms/step - loss: 0.2010 - accuracy: 0.9290 - val_loss: 0.2906 - val_accuracy: 0.9004\n",
            "Epoch 8/10\n",
            "1719/1719 [==============================] - 3s 2ms/step - loss: 0.1976 - accuracy: 0.9296 - val_loss: 0.3028 - val_accuracy: 0.8892\n",
            "Epoch 9/10\n",
            "1719/1719 [==============================] - 3s 2ms/step - loss: 0.1943 - accuracy: 0.9301 - val_loss: 0.2954 - val_accuracy: 0.8934\n",
            "Epoch 10/10\n",
            "1719/1719 [==============================] - 3s 2ms/step - loss: 0.1912 - accuracy: 0.9315 - val_loss: 0.2836 - val_accuracy: 0.9008\n"
          ],
          "name": "stdout"
        }
      ]
    },
    {
      "cell_type": "code",
      "metadata": {
        "id": "x2HSdGm8p99a",
        "colab_type": "code",
        "colab": {},
        "outputId": "52843c96-5780-4342-e78f-a4872deeb3dc"
      },
      "source": [
        "model = keras.models.load_model(\"my_keras_model_2.h5\") # rollback to best model\n",
        "mse_test = model.evaluate(X_test, y_test)"
      ],
      "execution_count": null,
      "outputs": [
        {
          "output_type": "stream",
          "text": [
            "313/313 [==============================] - 0s 1ms/step - loss: 0.3223 - accuracy: 0.8852\n"
          ],
          "name": "stdout"
        }
      ]
    },
    {
      "cell_type": "markdown",
      "metadata": {
        "id": "QUlLY56Pp99b",
        "colab_type": "text"
      },
      "source": [
        "The `EarlyStopping` callback will keep track of the best weights and restore them for you at the end of training."
      ]
    },
    {
      "cell_type": "code",
      "metadata": {
        "scrolled": true,
        "id": "3LyhvEEGp99c",
        "colab_type": "code",
        "colab": {},
        "outputId": "c0cd43b1-7c2c-4b8e-bb49-d6ffb5204b20"
      },
      "source": [
        "early_stopping_cb = keras.callbacks.EarlyStopping(patience=10,restore_best_weights=True)\n",
        "history = model.fit(X_train, y_train, epochs=50,\n",
        "                    validation_data=(X_valid, y_valid),\n",
        "                    callbacks=[checkpoint_cb, early_stopping_cb])"
      ],
      "execution_count": null,
      "outputs": [
        {
          "output_type": "stream",
          "text": [
            "Epoch 1/50\n",
            "1719/1719 [==============================] - 3s 2ms/step - loss: 0.2033 - accuracy: 0.9271 - val_loss: 0.2859 - val_accuracy: 0.8952\n",
            "Epoch 2/50\n",
            "1719/1719 [==============================] - 3s 2ms/step - loss: 0.2002 - accuracy: 0.9285 - val_loss: 0.2925 - val_accuracy: 0.8976\n",
            "Epoch 3/50\n",
            "1719/1719 [==============================] - 3s 2ms/step - loss: 0.1969 - accuracy: 0.9293 - val_loss: 0.3800 - val_accuracy: 0.8654\n",
            "Epoch 4/50\n",
            "1719/1719 [==============================] - 3s 2ms/step - loss: 0.1938 - accuracy: 0.9316 - val_loss: 0.2904 - val_accuracy: 0.8962\n",
            "Epoch 5/50\n",
            "1719/1719 [==============================] - 3s 2ms/step - loss: 0.1922 - accuracy: 0.9305 - val_loss: 0.2813 - val_accuracy: 0.8986\n",
            "Epoch 6/50\n",
            "1719/1719 [==============================] - 3s 2ms/step - loss: 0.1880 - accuracy: 0.9325 - val_loss: 0.3020 - val_accuracy: 0.8940\n",
            "Epoch 7/50\n",
            "1719/1719 [==============================] - 3s 2ms/step - loss: 0.1856 - accuracy: 0.9344 - val_loss: 0.2943 - val_accuracy: 0.9006\n",
            "Epoch 8/50\n",
            "1719/1719 [==============================] - 3s 2ms/step - loss: 0.1826 - accuracy: 0.9358 - val_loss: 0.3050 - val_accuracy: 0.8912\n",
            "Epoch 9/50\n",
            "1719/1719 [==============================] - 3s 2ms/step - loss: 0.1797 - accuracy: 0.9355 - val_loss: 0.2947 - val_accuracy: 0.8954\n",
            "Epoch 10/50\n",
            "1719/1719 [==============================] - 3s 2ms/step - loss: 0.1765 - accuracy: 0.9378 - val_loss: 0.2849 - val_accuracy: 0.9030\n",
            "Epoch 11/50\n",
            "1719/1719 [==============================] - 3s 2ms/step - loss: 0.1745 - accuracy: 0.9377 - val_loss: 0.2952 - val_accuracy: 0.8966\n",
            "Epoch 12/50\n",
            "1719/1719 [==============================] - 3s 2ms/step - loss: 0.1705 - accuracy: 0.9400 - val_loss: 0.2959 - val_accuracy: 0.8990\n",
            "Epoch 13/50\n",
            "1719/1719 [==============================] - 3s 2ms/step - loss: 0.1680 - accuracy: 0.9411 - val_loss: 0.2970 - val_accuracy: 0.8954\n",
            "Epoch 14/50\n",
            "1719/1719 [==============================] - 3s 2ms/step - loss: 0.1662 - accuracy: 0.9407 - val_loss: 0.3069 - val_accuracy: 0.8918\n",
            "Epoch 15/50\n",
            "1719/1719 [==============================] - 3s 2ms/step - loss: 0.1632 - accuracy: 0.9414 - val_loss: 0.2927 - val_accuracy: 0.9000\n"
          ],
          "name": "stdout"
        }
      ]
    },
    {
      "cell_type": "code",
      "metadata": {
        "id": "ylD0X8m5p99e",
        "colab_type": "code",
        "colab": {},
        "outputId": "ab4fe0ec-d397-4de3-8ee6-48bb3ced4493"
      },
      "source": [
        "pd.DataFrame(history.history).plot(figsize=(8, 5))\n",
        "plt.grid(True)\n",
        "plt.gca().set_ylim(0, 1)\n",
        "save_fig(\"keras_learning_curves_plot\")\n",
        "plt.show()"
      ],
      "execution_count": null,
      "outputs": [
        {
          "output_type": "stream",
          "text": [
            "Saving figure keras_learning_curves_plot\n"
          ],
          "name": "stdout"
        },
        {
          "output_type": "display_data",
          "data": {
            "image/png": "[encoded data removed]",
            "text/plain": [
              "<Figure size 576x360 with 1 Axes>"
            ]
          },
          "metadata": {
            "tags": [],
            "image/png": {
              "height": 351,
              "width": 569
            },
            "needs_background": "light"
          }
        }
      ]
    },
    {
      "cell_type": "markdown",
      "metadata": {
        "id": "nH1rZv1Ap99f",
        "colab_type": "text"
      },
      "source": [
        "# Using TensorBoard for Visualization \n",
        "* **TensorBoard** is a great interactive visualization tool that you can use to view the learning curves during training, compare learning curves between multiple runs, visualize the computation graph, analyze training statistics, view images generated by your model, visualize complex multidimensional data projected down to 3D and automatically clustered for you, and more! This tool is installed automatically when you install TensorFlow, so you already have it."
      ]
    },
    {
      "cell_type": "code",
      "metadata": {
        "id": "zydlzy25p99g",
        "colab_type": "code",
        "colab": {}
      },
      "source": [
        "root_logdir = os.path.join(os.curdir, \"my_logs\")"
      ],
      "execution_count": null,
      "outputs": []
    },
    {
      "cell_type": "code",
      "metadata": {
        "id": "EY_VcPhQp99h",
        "colab_type": "code",
        "colab": {},
        "outputId": "8be9b63c-f58c-4c54-e125-d90cbc45a7aa"
      },
      "source": [
        "def get_run_logdir():\n",
        "    import time\n",
        "    run_id = time.strftime(\"run_%Y_%m_%d-%H_%M_%S\")\n",
        "    return os.path.join(root_logdir, run_id)\n",
        "\n",
        "run_logdir = get_run_logdir()\n",
        "run_logdir"
      ],
      "execution_count": null,
      "outputs": [
        {
          "output_type": "execute_result",
          "data": {
            "text/plain": [
              "'.\\\\my_logs\\\\run_2020_08_17-15_59_40'"
            ]
          },
          "metadata": {
            "tags": []
          },
          "execution_count": 53
        }
      ]
    },
    {
      "cell_type": "code",
      "metadata": {
        "id": "OSs6qtrzp99i",
        "colab_type": "code",
        "colab": {}
      },
      "source": [
        "keras.backend.clear_session()\n",
        "np.random.seed(42)\n",
        "tf.random.set_seed(42)"
      ],
      "execution_count": null,
      "outputs": []
    },
    {
      "cell_type": "code",
      "metadata": {
        "id": "81XJNGt6p99l",
        "colab_type": "code",
        "colab": {}
      },
      "source": [
        "model_3 = keras.models.Sequential([\n",
        "    keras.layers.Flatten(input_shape=[28, 28]),\n",
        "    keras.layers.Dense(300, activation=\"relu\", name=\"Layer_Dense\"),\n",
        "    keras.layers.Dense(100, activation=\"relu\"),\n",
        "    keras.layers.Dense(10, activation=\"softmax\")\n",
        "])\n",
        "model_3.compile(loss=\"sparse_categorical_crossentropy\",\n",
        "              optimizer=\"sgd\",\n",
        "              metrics=[\"accuracy\"])"
      ],
      "execution_count": null,
      "outputs": []
    },
    {
      "cell_type": "code",
      "metadata": {
        "scrolled": true,
        "id": "O26FiLE9p99m",
        "colab_type": "code",
        "colab": {},
        "outputId": "69fb0946-31bd-4f2c-99ba-dce7f928fc03"
      },
      "source": [
        "tensorboard_cb = keras.callbacks.TensorBoard(run_logdir)\n",
        "history = model.fit(X_train, y_train, epochs=30,\n",
        "                    validation_data=(X_valid, y_valid),\n",
        "                    callbacks=[checkpoint_cb, tensorboard_cb])"
      ],
      "execution_count": null,
      "outputs": [
        {
          "output_type": "stream",
          "text": [
            "Epoch 1/30\n",
            "1719/1719 [==============================] - 4s 2ms/step - loss: 0.1870 - accuracy: 0.9332 - val_loss: 0.2866 - val_accuracy: 0.8968\n",
            "Epoch 2/30\n",
            "1719/1719 [==============================] - 3s 2ms/step - loss: 0.1848 - accuracy: 0.9338 - val_loss: 0.2943 - val_accuracy: 0.8976\n",
            "Epoch 3/30\n",
            "1719/1719 [==============================] - 3s 2ms/step - loss: 0.1815 - accuracy: 0.9351 - val_loss: 0.3771 - val_accuracy: 0.8672\n",
            "Epoch 4/30\n",
            "1719/1719 [==============================] - 3s 2ms/step - loss: 0.1786 - accuracy: 0.9366 - val_loss: 0.2901 - val_accuracy: 0.8978\n",
            "Epoch 5/30\n",
            "1719/1719 [==============================] - 4s 2ms/step - loss: 0.1771 - accuracy: 0.9355 - val_loss: 0.2807 - val_accuracy: 0.9000\n",
            "Epoch 6/30\n",
            "1719/1719 [==============================] - 4s 2ms/step - loss: 0.1740 - accuracy: 0.9372 - val_loss: 0.3056 - val_accuracy: 0.8942\n",
            "Epoch 7/30\n",
            "1719/1719 [==============================] - 4s 2ms/step - loss: 0.1719 - accuracy: 0.9396 - val_loss: 0.2974 - val_accuracy: 0.9006\n",
            "Epoch 8/30\n",
            "1719/1719 [==============================] - 4s 2ms/step - loss: 0.1685 - accuracy: 0.9409 - val_loss: 0.3031 - val_accuracy: 0.8918\n",
            "Epoch 9/30\n",
            "1719/1719 [==============================] - 4s 2ms/step - loss: 0.1657 - accuracy: 0.9403 - val_loss: 0.2954 - val_accuracy: 0.8966\n",
            "Epoch 10/30\n",
            "1719/1719 [==============================] - 3s 2ms/step - loss: 0.1632 - accuracy: 0.9423 - val_loss: 0.2866 - val_accuracy: 0.9018\n",
            "Epoch 11/30\n",
            "1719/1719 [==============================] - 3s 2ms/step - loss: 0.1616 - accuracy: 0.9421 - val_loss: 0.2963 - val_accuracy: 0.8962\n",
            "Epoch 12/30\n",
            "1719/1719 [==============================] - 3s 2ms/step - loss: 0.1571 - accuracy: 0.9443 - val_loss: 0.2957 - val_accuracy: 0.8984\n",
            "Epoch 13/30\n",
            "1719/1719 [==============================] - 3s 2ms/step - loss: 0.1554 - accuracy: 0.9452 - val_loss: 0.3003 - val_accuracy: 0.8948\n",
            "Epoch 14/30\n",
            "1719/1719 [==============================] - 3s 2ms/step - loss: 0.1531 - accuracy: 0.9463 - val_loss: 0.3093 - val_accuracy: 0.8936\n",
            "Epoch 15/30\n",
            "1719/1719 [==============================] - 4s 2ms/step - loss: 0.1506 - accuracy: 0.9465 - val_loss: 0.2963 - val_accuracy: 0.8980\n",
            "Epoch 16/30\n",
            "1719/1719 [==============================] - 3s 2ms/step - loss: 0.1492 - accuracy: 0.9480 - val_loss: 0.2926 - val_accuracy: 0.8976\n",
            "Epoch 17/30\n",
            "1719/1719 [==============================] - 4s 2ms/step - loss: 0.1467 - accuracy: 0.9472 - val_loss: 0.3313 - val_accuracy: 0.8922\n",
            "Epoch 18/30\n",
            "1719/1719 [==============================] - 4s 2ms/step - loss: 0.1437 - accuracy: 0.9496 - val_loss: 0.2923 - val_accuracy: 0.9016\n",
            "Epoch 19/30\n",
            "1719/1719 [==============================] - 4s 2ms/step - loss: 0.1424 - accuracy: 0.9499 - val_loss: 0.3100 - val_accuracy: 0.8966\n",
            "Epoch 20/30\n",
            "1719/1719 [==============================] - 4s 2ms/step - loss: 0.1391 - accuracy: 0.9512 - val_loss: 0.3186 - val_accuracy: 0.8950\n",
            "Epoch 21/30\n",
            "1719/1719 [==============================] - 4s 2ms/step - loss: 0.1369 - accuracy: 0.9518 - val_loss: 0.3038 - val_accuracy: 0.8994\n",
            "Epoch 22/30\n",
            "1719/1719 [==============================] - 3s 2ms/step - loss: 0.1349 - accuracy: 0.9514 - val_loss: 0.2937 - val_accuracy: 0.9006\n",
            "Epoch 23/30\n",
            "1719/1719 [==============================] - 3s 2ms/step - loss: 0.1324 - accuracy: 0.9537 - val_loss: 0.3059 - val_accuracy: 0.8988\n",
            "Epoch 24/30\n",
            "1719/1719 [==============================] - 3s 2ms/step - loss: 0.1307 - accuracy: 0.9533 - val_loss: 0.3175 - val_accuracy: 0.8942\n",
            "Epoch 25/30\n",
            "1719/1719 [==============================] - 3s 2ms/step - loss: 0.1281 - accuracy: 0.9549 - val_loss: 0.2992 - val_accuracy: 0.9044\n",
            "Epoch 26/30\n",
            "1719/1719 [==============================] - 3s 2ms/step - loss: 0.1267 - accuracy: 0.9548 - val_loss: 0.3140 - val_accuracy: 0.8996\n",
            "Epoch 27/30\n",
            "1719/1719 [==============================] - 3s 2ms/step - loss: 0.1252 - accuracy: 0.9554 - val_loss: 0.3099 - val_accuracy: 0.8994\n",
            "Epoch 28/30\n",
            "1719/1719 [==============================] - 3s 2ms/step - loss: 0.1232 - accuracy: 0.9564 - val_loss: 0.3011 - val_accuracy: 0.9024\n",
            "Epoch 29/30\n",
            "1719/1719 [==============================] - 3s 2ms/step - loss: 0.1207 - accuracy: 0.9576 - val_loss: 0.3196 - val_accuracy: 0.8972\n",
            "Epoch 30/30\n",
            "1719/1719 [==============================] - 3s 2ms/step - loss: 0.1185 - accuracy: 0.9592 - val_loss: 0.3298 - val_accuracy: 0.9000\n"
          ],
          "name": "stdout"
        }
      ]
    },
    {
      "cell_type": "markdown",
      "metadata": {
        "id": "9oSC4fX5p99o",
        "colab_type": "text"
      },
      "source": [
        "To start the TensorBoard server, one option is to open a terminal, if needed activate the virtualenv where you installed TensorBoard, go to this notebook's directory, then type:\n",
        "\n",
        "```bash\n",
        "$ tensorboard --logdir=./my_logs --port=6006\n",
        "```\n",
        "\n",
        "You can then open your web browser to [localhost:6006](http://localhost:6006) and use TensorBoard. Once you are done, press Ctrl-C in the terminal window, this will shutdown the TensorBoard server.\n",
        "\n",
        "Alternatively, you can load TensorBoard's Jupyter extension and run it like this:"
      ]
    },
    {
      "cell_type": "code",
      "metadata": {
        "scrolled": true,
        "id": "dLJADnnop99o",
        "colab_type": "code",
        "colab": {},
        "outputId": "1945eb91-ce04-42df-cbbd-838dd657fa24"
      },
      "source": [
        "%load_ext tensorboard\n",
        "%tensorboard --logdir=./my_logs --port=6006"
      ],
      "execution_count": null,
      "outputs": [
        {
          "output_type": "stream",
          "text": [
            "The tensorboard extension is already loaded. To reload it, use:\n",
            "  %reload_ext tensorboard\n"
          ],
          "name": "stdout"
        },
        {
          "output_type": "display_data",
          "data": {
            "text/plain": [
              "Reusing TensorBoard on port 6006 (pid 2924), started 3 days, 4:56:08 ago. (Use '!kill 2924' to kill it.)"
            ]
          },
          "metadata": {
            "tags": []
          }
        },
        {
          "output_type": "display_data",
          "data": {
            "text/html": [
              "\n",
              "      <iframe id=\"tensorboard-frame-eec71ba290f8f730\" width=\"100%\" height=\"800\" frameborder=\"0\">\n",
              "      </iframe>\n",
              "      <script>\n",
              "        (function() {\n",
              "          const frame = document.getElementById(\"tensorboard-frame-eec71ba290f8f730\");\n",
              "          const url = new URL(\"/\", window.location);\n",
              "          url.port = 6006;\n",
              "          frame.src = url;\n",
              "        })();\n",
              "      </script>\n",
              "  "
            ],
            "text/plain": [
              "<IPython.core.display.HTML object>"
            ]
          },
          "metadata": {
            "tags": []
          }
        }
      ]
    },
    {
      "cell_type": "markdown",
      "metadata": {
        "id": "PJtgLgT3p99p",
        "colab_type": "text"
      },
      "source": [
        "# Reference\n",
        "\n",
        "* [Machine Learning](https://medium.com/mmp-li/%E0%B9%80%E0%B8%A3%E0%B8%B4%E0%B9%88%E0%B8%A1%E0%B9%80%E0%B8%A3%E0%B8%B5%E0%B8%A2%E0%B8%99-machine-learning-0-100-introduction-1c58e516bfcd).\n",
        "* [Artificial Neural Network](https://medium.com/mmp-li/deep-learning-%E0%B9%81%E0%B8%9A%E0%B8%9A%E0%B8%89%E0%B8%9A%E0%B8%B1%E0%B8%9A%E0%B8%84%E0%B8%99%E0%B8%AA%E0%B8%B2%E0%B8%A1%E0%B8%B1%E0%B8%8D%E0%B8%8A%E0%B8%99-ep-1-neural-network-history-f7789236a9a3).\n",
        "\n",
        "* [Machine Learning Notebooks: Hands-on Machine Learning with Scikit-Learn, Keras and TensorFlow](https://github.com/ageron/handson-ml2).\n",
        "\n",
        "* [Artificial Intelligence with Machine Learning, AI สร้างได้ด้วยแมชชีนเลิร์นนิ่ง](https://www.se-ed.com/product/Artificial-Intelligence-with-Machine-Learning-AI-%E0%B8%AA%E0%B8%A3%E0%B9%89%E0%B8%B2%E0%B8%87%E0%B9%84%E0%B8%94%E0%B9%89%E0%B8%94%E0%B9%89%E0%B8%A7%E0%B8%A2%E0%B9%81%E0%B8%A1%E0%B8%8A%E0%B8%8A%E0%B8%B5%E0%B8%99%E0%B9%80%E0%B8%A5%E0%B8%B4%E0%B8%A3%E0%B9%8C%E0%B8%99%E0%B8%99%E0%B8%B4%E0%B9%88%E0%B8%87.aspx?no=9786164870710).\n",
        "\n",
        "* [Python Image Processing Cookbook](https://github.com/PacktPublishing/Python-Image-Processing-Cookbook)."
      ]
    }
  ]
}