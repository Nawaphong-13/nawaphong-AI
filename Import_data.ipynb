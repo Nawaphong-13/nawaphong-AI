{
  "nbformat": 4,
  "nbformat_minor": 0,
  "metadata": {
    "kernelspec": {
      "display_name": "Python 3.7 (tensorflow)",
      "language": "python",
      "name": "tensorflow"
    },
    "language_info": {
      "codemirror_mode": {
        "name": "ipython",
        "version": 3
      },
      "file_extension": ".py",
      "mimetype": "text/x-python",
      "name": "python",
      "nbconvert_exporter": "python",
      "pygments_lexer": "ipython3",
      "version": "3.7.7"
    },
    "colab": {
      "name": "Import_data.ipynb",
      "provenance": [],
      "collapsed_sections": [],
      "include_colab_link": true
    }
  },
  "cells": [
    {
      "cell_type": "markdown",
      "metadata": {
        "id": "view-in-github",
        "colab_type": "text"
      },
      "source": [
        "<a href=\"https://colab.research.google.com/github/Nawaphong-13/nawaphong-AI/blob/master/Import_data.ipynb\" target=\"_parent\"><img src=\"https://colab.research.google.com/assets/colab-badge.svg\" alt=\"Open In Colab\"/></a>"
      ]
    },
    {
      "cell_type": "code",
      "metadata": {
        "id": "0ZEOgfZ1u-AQ",
        "colab_type": "code",
        "colab": {}
      },
      "source": [
        "from glob import glob\n",
        "import numpy as np\n",
        "import cv2, os\n",
        "from imutils import paths\n",
        "from tqdm import tqdm\n",
        "\n",
        "from sklearn.model_selection import train_test_split\n",
        "from sklearn.preprocessing import LabelEncoder\n",
        "\n",
        "# To plot pretty figures\n",
        "%matplotlib inline\n",
        "%config InlineBackend.figure_format = 'retina'\n",
        "import matplotlib as mpl\n",
        "import matplotlib.pyplot as plt\n",
        "mpl.rc('axes', labelsize=14)\n",
        "mpl.rc('xtick', labelsize=12)\n",
        "mpl.rc('ytick', labelsize=12)"
      ],
      "execution_count": null,
      "outputs": []
    },
    {
      "cell_type": "markdown",
      "metadata": {
        "id": "EXeCHgMiu-AT",
        "colab_type": "text"
      },
      "source": [
        "# Extracted data Images and labels"
      ]
    },
    {
      "cell_type": "code",
      "metadata": {
        "scrolled": true,
        "id": "IytWBdRPu-AT",
        "colab_type": "code",
        "colab": {}
      },
      "source": [
        "def Load_datas(path, image_size=(128,128)):\n",
        "    # grab the list of images in our dataset directory, then initialize\n",
        "    # the list of data (i.e., images) and class images\n",
        "    print(\"[INFO] loading images...\")\n",
        "    imagePaths = list(paths.list_images(path))\n",
        "\n",
        "    datas = []\n",
        "    labels = []\n",
        "\n",
        "    for imagePath in tqdm(imagePaths):\n",
        "\n",
        "        label = imagePath.split(os.path.sep)[-2]\n",
        "        label = label.split('/')[-1]\n",
        "    #     print(label)\n",
        "        image = cv2.imread(imagePath)\n",
        "        image = cv2.resize(image, image_size) \n",
        "\n",
        "        datas.append(image/255.0)\n",
        "        labels.append(label)\n",
        "    #     print(i)\n",
        "    # convert the data and labels to NumPy arrays\n",
        "    datas = np.asarray(datas)\n",
        "    labels = np.asarray(labels)\n",
        "\n",
        "    print('Finish !!!') \n",
        "    return datas, labels"
      ],
      "execution_count": null,
      "outputs": []
    },
    {
      "cell_type": "code",
      "metadata": {
        "id": "DttYc5qHu-AV",
        "colab_type": "code",
        "colab": {}
      },
      "source": [
        "path = 'D:\\\\Video\\\\create_data_patent'  # ที่อยู่ของ folder ภาพของแต่ละคลาส\n",
        "\n",
        "datas, labels = Load_datas(path, image_size=(100,100))   # ดึงรูปภาพลง datas และ ladels"
      ],
      "execution_count": null,
      "outputs": []
    },
    {
      "cell_type": "code",
      "metadata": {
        "id": "uTSjcF6tu-AX",
        "colab_type": "code",
        "colab": {}
      },
      "source": [
        "nb_classes = len(set(labels))\n",
        "img_rows, img_cols, img_canal = datas.shape[1], datas.shape[2], datas.shape[3]\n",
        "input_shape = (img_rows, img_cols, img_canal)\n",
        "print(input_shape)\n",
        "\n",
        "# perform one-hot encoding on the labels\n",
        "lb = LabelEncoder()\n",
        "labels = lb.fit_transform(labels) # แปลง labels ที่เป็น str เป็น number \n",
        "# labels = to_categorical(labels)\n",
        "\n",
        "\n",
        "# partition the data into training and testing splits using 75% of\n",
        "# the data for training and the remaining 25% for testing\n",
        "(x_train, x_test, y_train, y_test) = train_test_split(datas, labels,\n",
        "\ttest_size=0.20, stratify=labels, random_state=42)\n",
        "\n",
        "print(x_train.shape, y_train.shape)\n",
        "print(x_test.shape, y_test.shape)"
      ],
      "execution_count": null,
      "outputs": []
    },
    {
      "cell_type": "code",
      "metadata": {
        "id": "dw_vB7Jyu-AZ",
        "colab_type": "code",
        "colab": {}
      },
      "source": [
        "plt.imshow(x_train[5][:,:,::-1])\n",
        "plt.title(str(y_train[5]))"
      ],
      "execution_count": null,
      "outputs": []
    },
    {
      "cell_type": "markdown",
      "metadata": {
        "id": "xVSCP_gNu-Ab",
        "colab_type": "text"
      },
      "source": [
        "# Import file images"
      ]
    },
    {
      "cell_type": "code",
      "metadata": {
        "id": "sAEdXUI9u-Ac",
        "colab_type": "code",
        "colab": {}
      },
      "source": [
        "path = 'D:\\\\Video\\\\images'\n",
        "\n",
        "for root, dir, files in os.walk(path):\n",
        "    for file in files:\n",
        "        print(os.path.join(root, file))\n",
        "#         img = cv2.imread(os.path.join(root, file))\n"
      ],
      "execution_count": null,
      "outputs": []
    },
    {
      "cell_type": "markdown",
      "metadata": {
        "id": "FKkmsBctu-Ad",
        "colab_type": "text"
      },
      "source": [
        "# Import file images only .jpg"
      ]
    },
    {
      "cell_type": "code",
      "metadata": {
        "id": "smUtvvryu-Ae",
        "colab_type": "code",
        "colab": {}
      },
      "source": [
        "path = 'D:\\\\Video\\\\images\\\\'\n",
        "for img_file in glob(path + '*.jpg'): #['images/all.png']: \n",
        "    print(img_file)\n",
        "#     img = cv2.cvtColor(cv2.imread(img_file), cv2.COLOR_BGR2RGB)"
      ],
      "execution_count": null,
      "outputs": []
    }
  ]
}